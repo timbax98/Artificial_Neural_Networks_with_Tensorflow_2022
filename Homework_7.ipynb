{
  "nbformat": 4,
  "nbformat_minor": 0,
  "metadata": {
    "colab": {
      "provenance": []
    },
    "kernelspec": {
      "name": "python3",
      "display_name": "Python 3"
    },
    "language_info": {
      "name": "python"
    },
    "accelerator": "GPU",
    "gpuClass": "standard",
    "widgets": {
      "application/vnd.jupyter.widget-state+json": {
        "200c1759a0e64aad994feb4854557b0e": {
          "model_module": "@jupyter-widgets/controls",
          "model_name": "HBoxModel",
          "model_module_version": "1.5.0",
          "state": {
            "_dom_classes": [],
            "_model_module": "@jupyter-widgets/controls",
            "_model_module_version": "1.5.0",
            "_model_name": "HBoxModel",
            "_view_count": null,
            "_view_module": "@jupyter-widgets/controls",
            "_view_module_version": "1.5.0",
            "_view_name": "HBoxView",
            "box_style": "",
            "children": [
              "IPY_MODEL_3480ee4081dc46519ff9e3fd4e1eaa61",
              "IPY_MODEL_88dd76a4ac7040488fc9cba36c537b7b",
              "IPY_MODEL_073e9a1e248f48d7ae7fc45c9c6c781c"
            ],
            "layout": "IPY_MODEL_d2edf588f77948508e095861b04671c2"
          }
        },
        "3480ee4081dc46519ff9e3fd4e1eaa61": {
          "model_module": "@jupyter-widgets/controls",
          "model_name": "HTMLModel",
          "model_module_version": "1.5.0",
          "state": {
            "_dom_classes": [],
            "_model_module": "@jupyter-widgets/controls",
            "_model_module_version": "1.5.0",
            "_model_name": "HTMLModel",
            "_view_count": null,
            "_view_module": "@jupyter-widgets/controls",
            "_view_module_version": "1.5.0",
            "_view_name": "HTMLView",
            "description": "",
            "description_tooltip": null,
            "layout": "IPY_MODEL_f572fa197ebd4a0a842b7f64e75d62dc",
            "placeholder": "​",
            "style": "IPY_MODEL_ec39e510ec244719b6e0922866e065ca",
            "value": "Dl Completed...: 100%"
          }
        },
        "88dd76a4ac7040488fc9cba36c537b7b": {
          "model_module": "@jupyter-widgets/controls",
          "model_name": "FloatProgressModel",
          "model_module_version": "1.5.0",
          "state": {
            "_dom_classes": [],
            "_model_module": "@jupyter-widgets/controls",
            "_model_module_version": "1.5.0",
            "_model_name": "FloatProgressModel",
            "_view_count": null,
            "_view_module": "@jupyter-widgets/controls",
            "_view_module_version": "1.5.0",
            "_view_name": "ProgressView",
            "bar_style": "success",
            "description": "",
            "description_tooltip": null,
            "layout": "IPY_MODEL_5330590bc29e46de95092d9b37cf8c10",
            "max": 5,
            "min": 0,
            "orientation": "horizontal",
            "style": "IPY_MODEL_4b3d6769a8ea4b8cb252926cf4658f13",
            "value": 5
          }
        },
        "073e9a1e248f48d7ae7fc45c9c6c781c": {
          "model_module": "@jupyter-widgets/controls",
          "model_name": "HTMLModel",
          "model_module_version": "1.5.0",
          "state": {
            "_dom_classes": [],
            "_model_module": "@jupyter-widgets/controls",
            "_model_module_version": "1.5.0",
            "_model_name": "HTMLModel",
            "_view_count": null,
            "_view_module": "@jupyter-widgets/controls",
            "_view_module_version": "1.5.0",
            "_view_name": "HTMLView",
            "description": "",
            "description_tooltip": null,
            "layout": "IPY_MODEL_ea9b6170ed374f439ad88987dde6b6c6",
            "placeholder": "​",
            "style": "IPY_MODEL_7fb7671b13f34955b05cafa8265b6d01",
            "value": " 5/5 [00:02&lt;00:00,  2.10 file/s]"
          }
        },
        "d2edf588f77948508e095861b04671c2": {
          "model_module": "@jupyter-widgets/base",
          "model_name": "LayoutModel",
          "model_module_version": "1.2.0",
          "state": {
            "_model_module": "@jupyter-widgets/base",
            "_model_module_version": "1.2.0",
            "_model_name": "LayoutModel",
            "_view_count": null,
            "_view_module": "@jupyter-widgets/base",
            "_view_module_version": "1.2.0",
            "_view_name": "LayoutView",
            "align_content": null,
            "align_items": null,
            "align_self": null,
            "border": null,
            "bottom": null,
            "display": null,
            "flex": null,
            "flex_flow": null,
            "grid_area": null,
            "grid_auto_columns": null,
            "grid_auto_flow": null,
            "grid_auto_rows": null,
            "grid_column": null,
            "grid_gap": null,
            "grid_row": null,
            "grid_template_areas": null,
            "grid_template_columns": null,
            "grid_template_rows": null,
            "height": null,
            "justify_content": null,
            "justify_items": null,
            "left": null,
            "margin": null,
            "max_height": null,
            "max_width": null,
            "min_height": null,
            "min_width": null,
            "object_fit": null,
            "object_position": null,
            "order": null,
            "overflow": null,
            "overflow_x": null,
            "overflow_y": null,
            "padding": null,
            "right": null,
            "top": null,
            "visibility": null,
            "width": null
          }
        },
        "f572fa197ebd4a0a842b7f64e75d62dc": {
          "model_module": "@jupyter-widgets/base",
          "model_name": "LayoutModel",
          "model_module_version": "1.2.0",
          "state": {
            "_model_module": "@jupyter-widgets/base",
            "_model_module_version": "1.2.0",
            "_model_name": "LayoutModel",
            "_view_count": null,
            "_view_module": "@jupyter-widgets/base",
            "_view_module_version": "1.2.0",
            "_view_name": "LayoutView",
            "align_content": null,
            "align_items": null,
            "align_self": null,
            "border": null,
            "bottom": null,
            "display": null,
            "flex": null,
            "flex_flow": null,
            "grid_area": null,
            "grid_auto_columns": null,
            "grid_auto_flow": null,
            "grid_auto_rows": null,
            "grid_column": null,
            "grid_gap": null,
            "grid_row": null,
            "grid_template_areas": null,
            "grid_template_columns": null,
            "grid_template_rows": null,
            "height": null,
            "justify_content": null,
            "justify_items": null,
            "left": null,
            "margin": null,
            "max_height": null,
            "max_width": null,
            "min_height": null,
            "min_width": null,
            "object_fit": null,
            "object_position": null,
            "order": null,
            "overflow": null,
            "overflow_x": null,
            "overflow_y": null,
            "padding": null,
            "right": null,
            "top": null,
            "visibility": null,
            "width": null
          }
        },
        "ec39e510ec244719b6e0922866e065ca": {
          "model_module": "@jupyter-widgets/controls",
          "model_name": "DescriptionStyleModel",
          "model_module_version": "1.5.0",
          "state": {
            "_model_module": "@jupyter-widgets/controls",
            "_model_module_version": "1.5.0",
            "_model_name": "DescriptionStyleModel",
            "_view_count": null,
            "_view_module": "@jupyter-widgets/base",
            "_view_module_version": "1.2.0",
            "_view_name": "StyleView",
            "description_width": ""
          }
        },
        "5330590bc29e46de95092d9b37cf8c10": {
          "model_module": "@jupyter-widgets/base",
          "model_name": "LayoutModel",
          "model_module_version": "1.2.0",
          "state": {
            "_model_module": "@jupyter-widgets/base",
            "_model_module_version": "1.2.0",
            "_model_name": "LayoutModel",
            "_view_count": null,
            "_view_module": "@jupyter-widgets/base",
            "_view_module_version": "1.2.0",
            "_view_name": "LayoutView",
            "align_content": null,
            "align_items": null,
            "align_self": null,
            "border": null,
            "bottom": null,
            "display": null,
            "flex": null,
            "flex_flow": null,
            "grid_area": null,
            "grid_auto_columns": null,
            "grid_auto_flow": null,
            "grid_auto_rows": null,
            "grid_column": null,
            "grid_gap": null,
            "grid_row": null,
            "grid_template_areas": null,
            "grid_template_columns": null,
            "grid_template_rows": null,
            "height": null,
            "justify_content": null,
            "justify_items": null,
            "left": null,
            "margin": null,
            "max_height": null,
            "max_width": null,
            "min_height": null,
            "min_width": null,
            "object_fit": null,
            "object_position": null,
            "order": null,
            "overflow": null,
            "overflow_x": null,
            "overflow_y": null,
            "padding": null,
            "right": null,
            "top": null,
            "visibility": null,
            "width": null
          }
        },
        "4b3d6769a8ea4b8cb252926cf4658f13": {
          "model_module": "@jupyter-widgets/controls",
          "model_name": "ProgressStyleModel",
          "model_module_version": "1.5.0",
          "state": {
            "_model_module": "@jupyter-widgets/controls",
            "_model_module_version": "1.5.0",
            "_model_name": "ProgressStyleModel",
            "_view_count": null,
            "_view_module": "@jupyter-widgets/base",
            "_view_module_version": "1.2.0",
            "_view_name": "StyleView",
            "bar_color": null,
            "description_width": ""
          }
        },
        "ea9b6170ed374f439ad88987dde6b6c6": {
          "model_module": "@jupyter-widgets/base",
          "model_name": "LayoutModel",
          "model_module_version": "1.2.0",
          "state": {
            "_model_module": "@jupyter-widgets/base",
            "_model_module_version": "1.2.0",
            "_model_name": "LayoutModel",
            "_view_count": null,
            "_view_module": "@jupyter-widgets/base",
            "_view_module_version": "1.2.0",
            "_view_name": "LayoutView",
            "align_content": null,
            "align_items": null,
            "align_self": null,
            "border": null,
            "bottom": null,
            "display": null,
            "flex": null,
            "flex_flow": null,
            "grid_area": null,
            "grid_auto_columns": null,
            "grid_auto_flow": null,
            "grid_auto_rows": null,
            "grid_column": null,
            "grid_gap": null,
            "grid_row": null,
            "grid_template_areas": null,
            "grid_template_columns": null,
            "grid_template_rows": null,
            "height": null,
            "justify_content": null,
            "justify_items": null,
            "left": null,
            "margin": null,
            "max_height": null,
            "max_width": null,
            "min_height": null,
            "min_width": null,
            "object_fit": null,
            "object_position": null,
            "order": null,
            "overflow": null,
            "overflow_x": null,
            "overflow_y": null,
            "padding": null,
            "right": null,
            "top": null,
            "visibility": null,
            "width": null
          }
        },
        "7fb7671b13f34955b05cafa8265b6d01": {
          "model_module": "@jupyter-widgets/controls",
          "model_name": "DescriptionStyleModel",
          "model_module_version": "1.5.0",
          "state": {
            "_model_module": "@jupyter-widgets/controls",
            "_model_module_version": "1.5.0",
            "_model_name": "DescriptionStyleModel",
            "_view_count": null,
            "_view_module": "@jupyter-widgets/base",
            "_view_module_version": "1.2.0",
            "_view_name": "StyleView",
            "description_width": ""
          }
        }
      }
    }
  },
  "cells": [
    {
      "cell_type": "markdown",
      "source": [
        "\n",
        "##Homework 7: Implement LSTM\n",
        "\n",
        "Groupmembers:\n",
        "- Carmen Amme (994813)\n",
        "- Anneke Büürma (995025)\n",
        "- Wilfred Okajevo (998818)\n",
        "\n"
      ],
      "metadata": {
        "id": "GvopVO_TkDCP"
      }
    },
    {
      "cell_type": "markdown",
      "source": [
        "# 2.1 Prepare the Dataset\n",
        "To create the sequences you could simply .batch() twice, once to create the sequences and the second time to create the batches."
      ],
      "metadata": {
        "id": "4rQXhpR0kZdh"
      }
    },
    {
      "cell_type": "code",
      "source": [
        "# load packages\n",
        "import tensorflow_datasets as tfds\n",
        "import tensorflow as tf\n",
        "import numpy as np\n",
        "import matplotlib.pyplot as plt\n",
        "import datetime\n",
        "\n"
      ],
      "metadata": {
        "id": "E-RjquSZkVFU"
      },
      "execution_count": null,
      "outputs": []
    },
    {
      "cell_type": "markdown",
      "source": [
        "Finding the targets"
      ],
      "metadata": {
        "id": "RMlo6Js_lCda"
      }
    },
    {
      "cell_type": "code",
      "source": [
        "def new_target_fnc(ds, sequence_len):\n",
        "  \"\"\"\n",
        "  Creates list of new targets by alternately adding and subtracting\n",
        "  The first digit is added, the second subtracted, the third added, etc\n",
        "  Parameters\n",
        "  ----------\n",
        "  ds : TensorFlowDataset\n",
        "  original mnist dataset containg images and targets as a tuple.\n",
        "  sequence_len : int\n",
        "  indicates at which point the sum has to reset for the new sequence\n",
        "  Returns\n",
        "  -------\n",
        "  l : list\n",
        "  list containing the new targets\n",
        "  \"\"\"\n",
        "\n",
        "  l = list()\n",
        "  for i, elem in enumerate(ds):\n",
        "    if (i % sequence_len) == 0:\n",
        "      l.append(int(elem[1]))\n",
        "    else:\n",
        "      if (i % 2) == 0:\n",
        "        l.append(int(l[i-1] + elem[1]))\n",
        "      else:\n",
        "        l.append(int(l[i-1] - elem[1]))\n",
        "\n",
        "  return l"
      ],
      "metadata": {
        "id": "5UuYK0jDkNll"
      },
      "execution_count": null,
      "outputs": []
    },
    {
      "cell_type": "code",
      "source": [
        "def new_targ(ds, sequence_len):\n",
        "  #range_vals is only used to create the change between positive and negative signs for the summation\n",
        "  range_vals = tf.range(10)\n",
        "  #target_digits is a placeholder\n",
        "  target_digits = tf.random.uniform((10,), minval=0, maxval=10, dtype=tf.dtypes.int32)\n",
        "  #this creates the alternating positve and negative signes by checkign whether the entry index modulo 2 is zero (i.e. even entries are positive, uneven ones negative)\n",
        "  #check the tf.where documentation if the usage is confusing for you!\n",
        "  alternating_target_numbers = tf.where(tf.math.floormod(range_vals,2)==0, target_digits, -target_digits)\n",
        "  print(alternating_target_numbers)\n",
        "  #finally we can compute the cumulative sums!\n",
        "  c_sum = tf.math.cumsum(alternating_target_numbers)\n",
        "  print(c_sum)\n",
        "  return c_sum"
      ],
      "metadata": {
        "id": "IieWVLEPpUa0"
      },
      "execution_count": null,
      "outputs": []
    },
    {
      "cell_type": "markdown",
      "source": [
        "2.1.2 Create the datapipeline"
      ],
      "metadata": {
        "id": "_MRsmgXcrY2N"
      }
    },
    {
      "cell_type": "code",
      "source": [
        "(train_ds, val_ds), ds_info = tfds.load ('mnist', split =['train', 'test'], as_supervised = True, with_info = True)\n",
        "\n",
        "# print(\"ds_info: \\n\", ds_info)\n",
        "# tfds.show_examples(train_ds, ds_info)\n",
        "\n",
        "batch_size = 64\n",
        "sequence_len = 6\n",
        "\n",
        "def preprocess(dataset, batchsize, sequence_len):\n",
        "    '''\n",
        "    :param dataset: the dataset to be prepared for input into the network\n",
        "    :param batchsize: the desired batchsize\n",
        "    :param sequence_len: sequence the dataset (you may think this as a another batch)\n",
        "    :return: sequenced dataset with sequential target\n",
        "    '''\n",
        "\n",
        "    # Step 1 - General Preprocessing\n",
        "\n",
        "    # convert data from uint8 to float32\n",
        "    dataset = dataset.map(lambda img, target: (tf.cast(img, tf.float32), target))\n",
        "\n",
        "    # input normalization, just bringing image values from range [0, 255] to [-1, 1]\n",
        "    dataset = dataset.map(lambda img, target: ((img / 128.) - 1., target))\n",
        "\n",
        "    # The output of that lambda function should be a tuple of two tensors of shapes (num_images, height, width, 1) and (num_images, 1) or (num_images,)\n",
        "\n",
        "    # Step 3 - Sequence Batching & Shuffling & Batching & Prefetching\n",
        "    dataset = dataset.batch(sequence_len)\n",
        "\n",
        "    # change the target\n",
        "\n",
        "    # alternate positive, negative target values\n",
        "    range_vals = tf.range(sequence_len)\n",
        "\n",
        "    dataset = dataset.map(lambda img, target:\n",
        "                          (img, tf.where(tf.math.floormod(range_vals,2)==0, target, -target)))\n",
        "\n",
        "    dataset = dataset.map(lambda img, target:\n",
        "                          (img, (tf.math.cumsum(target))))\n",
        "\n",
        "    # cache\n",
        "    dataset = dataset.cache()\n",
        "\n",
        "    # shuffle, batch, prefetch\n",
        "    dataset = dataset.shuffle(1000)\n",
        "    dataset = dataset.batch(batchsize)\n",
        "    dataset = dataset.prefetch(tf.data.AUTOTUNE)\n",
        "\n",
        "    # The shape of your tensors should be (batch, sequence-length, features).\n",
        "    return dataset\n",
        "\n",
        "def expand_dimension(x, y):\n",
        "    return x, tf.expand_dims(y, axis=-1)\n",
        "\n",
        "\n",
        "train_ds = preprocess(train_ds, batch_size, 6)\n",
        "val_ds = preprocess(val_ds, batch_size, 6)\n",
        "\n",
        "train_ds = train_ds.map(expand_dimension)\n",
        "val_ds = train_ds.map(expand_dimension)"
      ],
      "metadata": {
        "id": "Iy8OwN0prcfI",
        "colab": {
          "base_uri": "https://localhost:8080/",
          "height": 84,
          "referenced_widgets": [
            "200c1759a0e64aad994feb4854557b0e",
            "3480ee4081dc46519ff9e3fd4e1eaa61",
            "88dd76a4ac7040488fc9cba36c537b7b",
            "073e9a1e248f48d7ae7fc45c9c6c781c",
            "d2edf588f77948508e095861b04671c2",
            "f572fa197ebd4a0a842b7f64e75d62dc",
            "ec39e510ec244719b6e0922866e065ca",
            "5330590bc29e46de95092d9b37cf8c10",
            "4b3d6769a8ea4b8cb252926cf4658f13",
            "ea9b6170ed374f439ad88987dde6b6c6",
            "7fb7671b13f34955b05cafa8265b6d01"
          ]
        },
        "outputId": "b09ed529-fb39-48db-c135-7c37c880d051"
      },
      "execution_count": null,
      "outputs": [
        {
          "output_type": "stream",
          "name": "stdout",
          "text": [
            "Downloading and preparing dataset 11.06 MiB (download: 11.06 MiB, generated: 21.00 MiB, total: 32.06 MiB) to ~/tensorflow_datasets/mnist/3.0.1...\n"
          ]
        },
        {
          "output_type": "display_data",
          "data": {
            "text/plain": [
              "Dl Completed...:   0%|          | 0/5 [00:00<?, ? file/s]"
            ],
            "application/vnd.jupyter.widget-view+json": {
              "version_major": 2,
              "version_minor": 0,
              "model_id": "200c1759a0e64aad994feb4854557b0e"
            }
          },
          "metadata": {}
        },
        {
          "output_type": "stream",
          "name": "stdout",
          "text": [
            "Dataset mnist downloaded and prepared to ~/tensorflow_datasets/mnist/3.0.1. Subsequent calls will reuse this data.\n"
          ]
        }
      ]
    },
    {
      "cell_type": "code",
      "source": [
        "for img, label in train_ds.take(1):\n",
        "\n",
        "  shape_ds = img.shape\n",
        "\n",
        "  print(img.shape, label.shape) \n",
        "  # (bs, num_images, height, width, 1) (bs, num_images, 1)"
      ],
      "metadata": {
        "colab": {
          "base_uri": "https://localhost:8080/"
        },
        "id": "cziZN4s_vV90",
        "outputId": "f07c4379-f7b3-4925-d18e-33b72e14b620"
      },
      "execution_count": null,
      "outputs": [
        {
          "output_type": "stream",
          "name": "stdout",
          "text": [
            "(64, 6, 28, 28, 1) (64, 6, 1)\n"
          ]
        }
      ]
    },
    {
      "cell_type": "markdown",
      "source": [
        "# 2.2 The CNN & LSTM Network"
      ],
      "metadata": {
        "id": "EswapbNzrurj"
      }
    },
    {
      "cell_type": "code",
      "source": [
        "# With extended batch shape [4, 7]:\n",
        "input_shape = (64, 6, 28, 28, 1)\n",
        "x = tf.random.normal(input_shape)\n",
        "y = tf.keras.layers.Conv2D(32, 3, activation='relu', input_shape=input_shape[1:])(x)\n",
        "print(y.shape)\n"
      ],
      "metadata": {
        "id": "Q20dhKelxWf4",
        "outputId": "2f5d26e5-40f2-4735-9fb8-2d41368002eb",
        "colab": {
          "base_uri": "https://localhost:8080/"
        }
      },
      "execution_count": null,
      "outputs": [
        {
          "output_type": "stream",
          "name": "stdout",
          "text": [
            "(64, 6, 26, 26, 32)\n"
          ]
        }
      ]
    },
    {
      "cell_type": "code",
      "source": [
        "class BasicCNN_LSTM(tf.keras.Model):\n",
        "    def __init__(self):\n",
        "        super(BasicCNN_LSTM, self).__init__()\n",
        "\n",
        "        self.convlayer1 = tf.keras.layers.Conv2D(filters=48, kernel_size=3, padding='same', activation='relu', \n",
        "                                                batch_input_shape=(batch_size, sequence_len, 28, 28, 1))#, input_shape=(28, 28, 1))\n",
        "        self.convlayer2 = tf.keras.layers.Conv2D(filters=48, kernel_size=3, padding='same', activation='relu', \n",
        "                                                batch_input_shape=(batch_size, sequence_len, 28, 28, 1))#, input_shape=(28, 28, 1))\n",
        "        self.convlayer3 = tf.keras.layers.Conv2D(filters=48, kernel_size=3, padding='same', activation='relu', \n",
        "                                                batch_input_shape=(batch_size, sequence_len, 28, 28, 1))#, input_shape=(28, 28, 1))\n",
        "        self.batchnorm1 = tf.keras.layers.BatchNormalization()\n",
        "\n",
        "        self.global_pool = tf.keras.layers.GlobalAvgPool2D()\n",
        "        self.timedist = tf.keras.layers.TimeDistributed(self.global_pool)\n",
        "\n",
        "        self.rnn = tf.keras.layers.RNN(ourlstm(8), return_sequences=True) \n",
        "        self.batchnorm2 = tf.keras.layers.BatchNormalization()\n",
        "\n",
        "        self.outputlayer = tf.keras.layers.Dense(units=1, activation=None) \n",
        "        \n",
        "    @tf.function # Leon: comment it out when debugging\n",
        "    def call(self, x):\n",
        "        # print(f\"initial shape: {x.shape}\")\n",
        "        x = self.convlayer1(x)\n",
        "        x = self.convlayer2(x)\n",
        "        x = self.convlayer3(x)\n",
        "        # print(f\"shape after cnn: {x.shape}\")\n",
        "        \n",
        "        x = self.batchnorm1(x)\n",
        "        x = self.timedist(x) \n",
        "        # print(f\"shape after timedist&pooling: {x.shape}\") # shape should be (bs, sequence-length, features) before LSTM\n",
        "\n",
        "        x = self.rnn(x)\n",
        "        # print(f\"shape after rnn: {x.shape}\")\n",
        "        \n",
        "        x = self.batchnorm2(x)\n",
        "        x = self.outputlayer(x)\n",
        "        # print(f\"shape after output: {x.shape}\")\n",
        "\n",
        "        return x"
      ],
      "metadata": {
        "id": "F9LOg3JXryOI"
      },
      "execution_count": null,
      "outputs": []
    },
    {
      "cell_type": "markdown",
      "source": [
        "# 2.3 LSTM AbstractRNNCell layer"
      ],
      "metadata": {
        "id": "lPwJKRIjvNVu"
      }
    },
    {
      "cell_type": "code",
      "source": [
        "class ourlstm(tf.keras.layers.AbstractRNNCell):\n",
        "\n",
        "    def __init__(self, units, **kwargs): # units = units of the weight matrixs in each dense layer = units of the output\n",
        "        super().__init__(**kwargs)\n",
        "\n",
        "        self.units = units\n",
        "\n",
        "        self.forgetgate = tf.keras.layers.Dense(units, \n",
        "                                                kernel_initializer=tf.keras.initializers.Orthogonal(gain=1.0, seed=None), \n",
        "                                                activation='sigmoid')\n",
        "        self.inputgate1 = tf.keras.layers.Dense(units, \n",
        "                                                kernel_initializer=tf.keras.initializers.Orthogonal(gain=1.0, seed=None), \n",
        "                                                activation='sigmoid')\n",
        "        self.inputgate2 = tf.keras.layers.Dense(units, \n",
        "                                                kernel_initializer=tf.keras.initializers.Orthogonal(gain=1.0, seed=None), \n",
        "                                                activation='tanh')\n",
        "        self.outputgate = tf.keras.layers.Dense(units, \n",
        "                                                kernel_initializer=tf.keras.initializers.Orthogonal(gain=1.0, seed=None), \n",
        "                                                activation='sigmoid')\n",
        "    \n",
        "    @property\n",
        "    def state_size(self):\n",
        "        return [tf.TensorShape([self.units]), \n",
        "                tf.TensorShape([self.units])]\n",
        "    @property\n",
        "    def output_size(self):\n",
        "        return [tf.TensorShape([self.units])]\n",
        "    \n",
        "    def get_initial_state(self, inputs=None, batch_size=None, dtype=None):\n",
        "        return [tf.zeros([batch_size, self.units]), \n",
        "                tf.zeros([batch_size, self.units])]\n",
        "\n",
        "\n",
        "    # The LSTM-cell layer’s call method should take one (batch of) feature vector(s) as its input, \n",
        "    # along with the ”states”, a list containing the different state tensors of the LSTM cell (cell state and hidden state!).\n",
        "    def call(self, inputs, states):\n",
        "        # unpack the states\n",
        "        cell_s = states[0]\n",
        "        hidden_s = states[1]\n",
        "\n",
        "        concat_value = tf.concat([inputs, hidden_s], axis=-1) # Leon: or use a tuple\n",
        "\n",
        "        x1 = self.forgetgate(concat_value)\n",
        "        x1 = tf.math.multiply(x1, cell_s) # or use *\n",
        "\n",
        "        x2 = self.inputgate1(concat_value)\n",
        "        x3 = self.inputgate2(concat_value)\n",
        "\n",
        "        x3 = tf.math.multiply(x2, x3)\n",
        "        new_cell_s = tf.math.add(x1, x3)\n",
        "\n",
        "        x4 = self.outputgate(concat_value)\n",
        "        new_hidden_s = tf.math.multiply(x4, tf.math.tanh(new_cell_s))\n",
        "\n",
        "        return new_hidden_s, (new_hidden_s, new_cell_s)\n",
        "        # The returns should be the output of the LSTM, to be used to compute the model\n",
        "        # output for this time-step (usually the hidden state), as well as a list containing\n",
        "        # the new states (e.g. [new hidden state, new cell state])\n",
        "\n",
        "    def get_config(self):\n",
        "        return {\"hidden_units\": self.units}"
      ],
      "metadata": {
        "id": "GEWeGXBIvQA_"
      },
      "execution_count": null,
      "outputs": []
    },
    {
      "cell_type": "code",
      "source": [
        "epochs = 20\n",
        "lr = 1e-2\n",
        "\n",
        "mymodel = BasicCNN_LSTM()\n",
        "\n",
        "loss = tf.keras.losses.MeanSquaredError()\n",
        "opti = tf.keras.optimizers.Adam(learning_rate=lr)\n",
        "\n",
        "mymodel.compile(loss=loss, \n",
        "                optimizer=opti, \n",
        "                metrics=['MAE']) # for accuracy - instead of tf.keras.metrics.MeanAbsoluteError()\n",
        "                      \n",
        "# save logs with Tensorboard\n",
        "EXPERIMENT_NAME = \"CNN_LSTM\"\n",
        "current_time = datetime.datetime.now().strftime(\"%Y%m%d-%H%M%S\")\n",
        "logging_callback = tf.keras.callbacks.TensorBoard(log_dir=f\".myModel/{EXPERIMENT_NAME}/{current_time}\")\n",
        "\n",
        "history = mymodel.fit(train_ds, \n",
        "                    validation_data=val_ds, \n",
        "                    epochs=epochs,\n",
        "                    batch_size=batch_size,\n",
        "                    callbacks=[logging_callback])\n",
        "\n",
        "# mymodel.load_weights(checkpoint_filepath)\n",
        "\n",
        "plt.plot(history.history[\"loss\"])\n",
        "plt.plot(history.history[\"val_loss\"])\n",
        "plt.plot(history.history[\"MAE\"])\n",
        "plt.plot(history.history[\"val_MAE\"])\n",
        "plt.legend(labels=[\"train_loss\",\"val_loss\", \"train_error(acc)\", \"val_error(acc)\"])\n",
        "plt.xlabel(\"Epoch\")\n",
        "plt.ylabel(\"MSE(loss), MAE(acc)\")\n",
        "plt.savefig(f\"testing: e={epochs},lr={lr}.png\")\n",
        "plt.show()\n",
        "\n",
        "# save configs (e.g. hyperparameters) of your settings\n",
        "# checkpoint your model’s weights (or even the complete model\n",
        "mymodel.save('/content/MyModel')\n"
      ],
      "metadata": {
        "id": "WOftvqoL5fJn",
        "outputId": "d3e847dd-1d11-457a-a786-6d4f8e876381",
        "colab": {
          "base_uri": "https://localhost:8080/",
          "height": 1000
        }
      },
      "execution_count": null,
      "outputs": [
        {
          "output_type": "stream",
          "name": "stdout",
          "text": [
            "Epoch 1/20\n",
            "157/157 [==============================] - 20s 99ms/step - loss: 30.5991 - MAE: 4.3451 - val_loss: 19.3776 - val_MAE: 3.4625\n",
            "Epoch 2/20\n",
            "157/157 [==============================] - 14s 87ms/step - loss: 12.3192 - MAE: 2.6942 - val_loss: 9.5631 - val_MAE: 2.3615\n",
            "Epoch 3/20\n",
            "157/157 [==============================] - 14s 87ms/step - loss: 8.5475 - MAE: 2.2196 - val_loss: 7.5453 - val_MAE: 2.0780\n",
            "Epoch 4/20\n",
            "157/157 [==============================] - 15s 98ms/step - loss: 7.3435 - MAE: 2.0519 - val_loss: 7.2913 - val_MAE: 2.0411\n",
            "Epoch 5/20\n",
            "157/157 [==============================] - 14s 87ms/step - loss: 6.8828 - MAE: 1.9843 - val_loss: 6.3673 - val_MAE: 1.9010\n",
            "Epoch 6/20\n",
            "157/157 [==============================] - 12s 74ms/step - loss: 6.1611 - MAE: 1.8661 - val_loss: 5.7859 - val_MAE: 1.8014\n",
            "Epoch 7/20\n",
            "157/157 [==============================] - 14s 87ms/step - loss: 5.8480 - MAE: 1.8087 - val_loss: 5.4592 - val_MAE: 1.7519\n",
            "Epoch 8/20\n",
            "157/157 [==============================] - 14s 87ms/step - loss: 5.4088 - MAE: 1.7500 - val_loss: 5.1848 - val_MAE: 1.7131\n",
            "Epoch 9/20\n",
            "157/157 [==============================] - 14s 87ms/step - loss: 5.0281 - MAE: 1.6773 - val_loss: 4.7899 - val_MAE: 1.6400\n",
            "Epoch 10/20\n",
            "157/157 [==============================] - 12s 74ms/step - loss: 4.6286 - MAE: 1.6012 - val_loss: 4.2300 - val_MAE: 1.5388\n",
            "Epoch 11/20\n",
            "157/157 [==============================] - 14s 86ms/step - loss: 4.4020 - MAE: 1.5609 - val_loss: 4.0894 - val_MAE: 1.5090\n",
            "Epoch 12/20\n",
            "157/157 [==============================] - 14s 86ms/step - loss: 4.2694 - MAE: 1.5355 - val_loss: 3.9558 - val_MAE: 1.4747\n",
            "Epoch 13/20\n",
            "157/157 [==============================] - 12s 74ms/step - loss: 3.9802 - MAE: 1.4782 - val_loss: 3.7297 - val_MAE: 1.4185\n",
            "Epoch 14/20\n",
            "157/157 [==============================] - 12s 74ms/step - loss: 3.9453 - MAE: 1.4684 - val_loss: 3.6002 - val_MAE: 1.3987\n",
            "Epoch 15/20\n",
            "157/157 [==============================] - 12s 74ms/step - loss: 3.7861 - MAE: 1.4391 - val_loss: 3.6008 - val_MAE: 1.3869\n",
            "Epoch 16/20\n",
            "157/157 [==============================] - 12s 74ms/step - loss: 3.6242 - MAE: 1.4067 - val_loss: 3.4271 - val_MAE: 1.3631\n",
            "Epoch 17/20\n",
            "157/157 [==============================] - 14s 87ms/step - loss: 3.5024 - MAE: 1.3701 - val_loss: 3.3459 - val_MAE: 1.3533\n",
            "Epoch 18/20\n",
            "157/157 [==============================] - 14s 87ms/step - loss: 3.2929 - MAE: 1.3404 - val_loss: 3.3931 - val_MAE: 1.3690\n",
            "Epoch 19/20\n",
            "157/157 [==============================] - 12s 75ms/step - loss: 3.2614 - MAE: 1.3284 - val_loss: 3.0944 - val_MAE: 1.3042\n",
            "Epoch 20/20\n",
            "157/157 [==============================] - 12s 75ms/step - loss: 3.2146 - MAE: 1.3256 - val_loss: 2.9335 - val_MAE: 1.2634\n"
          ]
        },
        {
          "output_type": "display_data",
          "data": {
            "text/plain": [
              "<Figure size 432x288 with 1 Axes>"
            ],
            "image/png": "[encoded data removed]"
          },
          "metadata": {
            "needs_background": "light"
          }
        },
        {
          "output_type": "stream",
          "name": "stderr",
          "text": [
            "WARNING:absl:Found untraced functions such as _jit_compiled_convolution_op, _jit_compiled_convolution_op, _jit_compiled_convolution_op, dense_layer_call_fn, dense_layer_call_and_return_conditional_losses while saving (showing 5 of 11). These functions will not be directly callable after loading.\n"
          ]
        }
      ]
    },
    {
      "cell_type": "code",
      "source": [],
      "metadata": {
        "id": "eNaLU7Pq5zLu"
      },
      "execution_count": null,
      "outputs": []
    }
  ]
}