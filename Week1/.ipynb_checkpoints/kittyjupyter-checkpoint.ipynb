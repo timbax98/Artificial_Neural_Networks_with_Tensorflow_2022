{
 "cells": [
  {
   "cell_type": "code",
   "execution_count": 1,
   "id": "71f42b1b",
   "metadata": {},
   "outputs": [
    {
     "name": "stdout",
     "output_type": "stream",
     "text": [
      "Enter Name: a\n",
      "Enter Name: b\n",
      "My name is a you must be b\n"
     ]
    }
   ],
   "source": [
    "import cat"
   ]
  },
  {
   "cell_type": "code",
   "execution_count": null,
   "id": "49eed42d",
   "metadata": {},
   "outputs": [],
   "source": []
  }
 ],
 "metadata": {
  "kernelspec": {
   "display_name": "Python 3 (ipykernel)",
   "language": "python",
   "name": "python3"
  },
  "language_info": {
   "codemirror_mode": {
    "name": "ipython",
    "version": 3
   },
   "file_extension": ".py",
   "mimetype": "text/x-python",
   "name": "python",
   "nbconvert_exporter": "python",
   "pygments_lexer": "ipython3",
   "version": "3.10.6"
  }
 },
 "nbformat": 4,
 "nbformat_minor": 5
}
