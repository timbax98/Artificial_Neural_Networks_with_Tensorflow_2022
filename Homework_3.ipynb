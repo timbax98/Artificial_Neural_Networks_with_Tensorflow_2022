{
 "cells": [
  {
   "cell_type": "markdown",
   "metadata": {
    "id": "l8HR1Eu1pbGf"
   },
   "source": [
    "## Homework 3 - MNIST Classification \n"
   ]
  },
  {
   "cell_type": "markdown",
   "metadata": {
    "id": "hbFbuV3qpzsU"
   },
   "source": [
    "# 2.1 Loading the MNIST dataset\n"
   ]
  },
  {
   "cell_type": "code",
   "execution_count": 2,
   "metadata": {
    "colab": {
     "base_uri": "https://localhost:8080/",
     "height": 84,
     "referenced_widgets": [
      "349d7ee2912e4e599619e0997e0e32cb",
      "2f0a4a2b0dc948bd8010be0b25476f24",
      "e30a7024a3094535a10fa5df37057152",
      "14c2d3b34f454cf4b171a358cdc627b5",
      "787bd199a4ce43d997835002a3fa240b",
      "81d8653d94c944b48a3362230543bf66",
      "05d6e2c71ed94809a106c0cc0ff68e72",
      "5eda107771534b12b1b8270f4e989d1c",
      "d9f407d627dd45db9e8095e8556a1d23",
      "c693700c568947158751f9f9e46f5fa4",
      "7dd9fd27aee54a108f7e01a6c1ec57ad"
     ]
    },
    "id": "DTKruVbcqJJ9",
    "outputId": "5f2a14e8-ba60-44fb-abf7-c7a64d803c41"
   },
   "outputs": [
    {
     "name": "stdout",
     "output_type": "stream",
     "text": [
      "Downloading and preparing dataset 11.06 MiB (download: 11.06 MiB, generated: 21.00 MiB, total: 32.06 MiB) to ~/tensorflow_datasets/mnist/3.0.1...\n"
     ]
    },
    {
     "data": {
      "application/vnd.jupyter.widget-view+json": {
       "model_id": "349d7ee2912e4e599619e0997e0e32cb",
       "version_major": 2,
       "version_minor": 0
      },
      "text/plain": [
       "Dl Completed...:   0%|          | 0/4 [00:00<?, ? file/s]"
      ]
     },
     "metadata": {},
     "output_type": "display_data"
    },
    {
     "name": "stdout",
     "output_type": "stream",
     "text": [
      "Dataset mnist downloaded and prepared to ~/tensorflow_datasets/mnist/3.0.1. Subsequent calls will reuse this data.\n"
     ]
    }
   ],
   "source": [
    "# load packages\n",
    "import tensorflow_datasets as tfds\n",
    "import tensorflow as tf\n",
    "import numpy as np\n",
    "\n",
    "# load dataset\n",
    "(train_ds, test_ds), ds_info = tfds.load('mnist', split=['train', 'test'], as_supervised = True, with_info = True)"
   ]
  },
  {
   "cell_type": "markdown",
   "metadata": {
    "id": "gMTTNQ4Iq8uZ"
   },
   "source": []
  },
  {
   "cell_type": "code",
   "execution_count": 3,
   "metadata": {
    "colab": {
     "base_uri": "https://localhost:8080/"
    },
    "id": "vhBrLa-0t6kE",
    "outputId": "166434c9-6972-419c-9929-0460c20066fe"
   },
   "outputs": [
    {
     "name": "stdout",
     "output_type": "stream",
     "text": [
      "tfds.core.DatasetInfo(\n",
      "    name='mnist',\n",
      "    full_name='mnist/3.0.1',\n",
      "    description=\"\"\"\n",
      "    The MNIST database of handwritten digits.\n",
      "    \"\"\",\n",
      "    homepage='http://yann.lecun.com/exdb/mnist/',\n",
      "    data_path='~/tensorflow_datasets/mnist/3.0.1',\n",
      "    file_format=tfrecord,\n",
      "    download_size=11.06 MiB,\n",
      "    dataset_size=21.00 MiB,\n",
      "    features=FeaturesDict({\n",
      "        'image': Image(shape=(28, 28, 1), dtype=tf.uint8),\n",
      "        'label': ClassLabel(shape=(), dtype=tf.int64, num_classes=10),\n",
      "    }),\n",
      "    supervised_keys=('image', 'label'),\n",
      "    disable_shuffling=False,\n",
      "    splits={\n",
      "        'test': <SplitInfo num_examples=10000, num_shards=1>,\n",
      "        'train': <SplitInfo num_examples=60000, num_shards=1>,\n",
      "    },\n",
      "    citation=\"\"\"@article{lecun2010mnist,\n",
      "      title={MNIST handwritten digit database},\n",
      "      author={LeCun, Yann and Cortes, Corinna and Burges, CJ},\n",
      "      journal={ATT Labs [Online]. Available: http://yann.lecun.com/exdb/mnist},\n",
      "      volume={2},\n",
      "      year={2010}\n",
      "    }\"\"\",\n",
      ")\n"
     ]
    }
   ],
   "source": [
    "# get some information about the dataset\n",
    "print(ds_info)"
   ]
  },
  {
   "cell_type": "code",
   "execution_count": 4,
   "metadata": {
    "colab": {
     "base_uri": "https://localhost:8080/"
    },
    "id": "ZeXC-uFwrIOe",
    "outputId": "5b5c9df2-6e12-4c71-ee66-67136198e15d"
   },
   "outputs": [
    {
     "name": "stdout",
     "output_type": "stream",
     "text": [
      "Amount of training images =  60000\n",
      "Amount of test images =  10000\n",
      "Image Shape =  (28, 28, 1)\n",
      "Range of the pixel values =  0 - 255\n"
     ]
    }
   ],
   "source": [
    "from tensorflow.python import image\n",
    "# Q1: How many training/test images are there?\n",
    "no_train_img = ds_info.splits['train'].num_examples\n",
    "print('Amount of training images = ', no_train_img)\n",
    "\n",
    "no_test_img = ds_info.splits['test'].num_examples\n",
    "print('Amount of test images = ', no_test_img)\n",
    "\n",
    "\n",
    "# Q2: What’s the image shape?\n",
    "shape_train_img = ds_info.features['image'].shape\n",
    "print('Image Shape = ', shape_train_img)\n",
    "\n",
    "\n",
    "# Q3: What range are pixel values in?\n",
    "minval_train_img = ds_info.features['image'].dtype.min\n",
    "maxval_train_img = ds_info.features['image'].dtype.max\n",
    "print('Range of the pixel values = ', minval_train_img, '-', maxval_train_img)"
   ]
  },
  {
   "cell_type": "code",
   "execution_count": 5,
   "metadata": {
    "colab": {
     "base_uri": "https://localhost:8080/",
     "height": 1000
    },
    "id": "FQqaC8LAuyki",
    "outputId": "e3a076ca-aedc-4297-a2ba-0316e1578501",
    "scrolled": true
   },
   "outputs": [
    {
     "data": {
      "image/png": "[encoded data removed]",
      "text/plain": [
       "<Figure size 648x648 with 9 Axes>"
      ]
     },
     "metadata": {},
     "output_type": "display_data"
    },
    {
     "data": {
      "image/png": "[encoded data removed]",
      "text/plain": [
       "<Figure size 648x648 with 9 Axes>"
      ]
     },
     "execution_count": 5,
     "metadata": {},
     "output_type": "execute_result"
    }
   ],
   "source": []
  },
  {
   "cell_type": "markdown",
   "metadata": {
    "id": "ravByzFPz2L-"
   },
   "source": [
    "# 2.2 Setting up the data pipeline\n",
    "\n",
    "\n",
    "\n"
   ]
  },
  {
   "cell_type": "markdown",
   "metadata": {
    "id": "hf680EWzUelA"
   },
   "source": []
  },
  {
   "cell_type": "code",
   "execution_count": 6,
   "metadata": {
    "id": "pSb7vltsPzJg"
   },
   "outputs": [],
   "source": [
    "#change datatype from uint8 to tf.float values\n",
    "train_ds = train_ds.map(lambda img, target: (tf.cast(img, tf.float32), target))\n",
    "test_ds = test_ds.map(lambda img, target: (tf.cast(img, tf.float32), target))\n"
   ]
  },
  {
   "cell_type": "markdown",
   "metadata": {
    "id": "-6clg1GAQbHH"
   },
   "source": []
  },
  {
   "cell_type": "code",
   "execution_count": 7,
   "metadata": {
    "id": "6rki6pQgQV73"
   },
   "outputs": [],
   "source": [
    "#flatten images through reshape function\n",
    "#-1 flattens to 1 dimensions and inferst the size\n",
    "train_ds = train_ds.map(lambda img, target: (tf.reshape(img, (-1,)), target))\n",
    "test_ds = test_ds.map(lambda img, target: (tf.reshape(img, (-1,)), target))"
   ]
  },
  {
   "cell_type": "markdown",
   "metadata": {
    "id": "KpGsxKSVQh72"
   },
   "source": []
  },
  {
   "cell_type": "code",
   "execution_count": 8,
   "metadata": {
    "id": "_ihbqJz_QWEs"
   },
   "outputs": [],
   "source": [
    "train_ds = train_ds.map(lambda img, target: ((img/128.)-1., target))\n",
    "test_ds = test_ds.map(lambda img, target: ((img/128.)-1., target))"
   ]
  },
  {
   "cell_type": "markdown",
   "metadata": {
    "id": "b5thHF5BQltj"
   },
   "source": []
  },
  {
   "cell_type": "code",
   "execution_count": 9,
   "metadata": {
    "id": "K7reMdKFUHrD"
   },
   "outputs": [],
   "source": [
    "train_ds = train_ds.map(lambda img, target: (img, tf.one_hot(target, depth=10)))\n",
    "test_ds = test_ds.map(lambda img, target: (img, tf.one_hot(target, depth=10)))"
   ]
  },
  {
   "cell_type": "code",
   "execution_count": 10,
   "metadata": {
    "id": "PNZz4sIxomZb"
   },
   "outputs": [],
   "source": [
    "\n",
    "train_ds = train_ds.batch(32)\n",
    "test_ds = test_ds.batch(32)\n",
    "\n"
   ]
  },
  {
   "cell_type": "markdown",
   "metadata": {
    "id": "0gDFUiUYUkGH"
   },
   "source": [
    "# 2.3 Building a deep neural network with TensorFlow\n"
   ]
  },
  {
   "cell_type": "code",
   "execution_count": 11,
   "metadata": {
    "id": "235Z7P29VQMU"
   },
   "outputs": [],
   "source": [
    "from tensorflow.keras.layers import Dense\n",
    "\n",
    "class MyModel(tf.keras.Model):\n",
    "    \n",
    "    def __init__(self, nl1=256, nl2=256):\n",
    "        super(MyModel, self).__init__() \n",
    "        self.dense1 = tf.keras.layers.Dense(nl1, activation=tf.nn.relu)\n",
    "        self.dense2 = tf.keras.layers.Dense(nl2, activation=tf.nn.relu)\n",
    "        self.out = tf.keras.layers.Dense(10, activation=tf.nn.softmax)\n",
    "  \n",
    "    @tf.function\n",
    "    def call(self, inputs):\n",
    "        x = self.dense1(inputs)\n",
    "        x = self.dense2(x)\n",
    "        x = self.out(x)\n",
    "        return x\n",
    "\n",
    "# class MyModel(tf.keras.Model): #take a subclass from keras.Model\n",
    "    \n",
    "#     def __init__(self):\n",
    "#         super(MyModel, self).__init__() #initialise the class from which we inherit\n",
    "#         # self.inp = tf.keras.Input(shape=(784, )) #define the size of the input layer\n",
    "#         self.dense1 = tf.keras.layers.Dense(256, activation=tf.nn.relu)\n",
    "#         self.dense2 = tf.keras.layers.Dense(256, activation=tf.nn.relu)\n",
    "#         self.out = tf.keras.layers.Dense(10, activation=tf.nn.softmax)\n",
    "  \n",
    "#     @tf.function\n",
    "#     def call(self, inputs):\n",
    "#         # x = self.inp(inputs)\n",
    "#         x = self.dense1(inputs)\n",
    "#         x = self.dense2(x)\n",
    "#         x = self.out(x)\n",
    "#         return x\n",
    "\n",
    "\n"
   ]
  },
  {
   "cell_type": "markdown",
   "metadata": {
    "id": "7kV-EoGGWYYS"
   },
   "source": [
    "# 2.4 Training the network\n",
    "\n"
   ]
  },
  {
   "cell_type": "markdown",
   "metadata": {
    "id": "N-hFkXLuWgoY"
   },
   "source": []
  },
  {
   "cell_type": "code",
   "execution_count": 12,
   "metadata": {
    "id": "9-EtsLBKXGRQ"
   },
   "outputs": [],
   "source": [
    "def train_step(model, input, target, loss_function, optimizer):\n",
    "  # loss_object and optimizer_object are instances of respective tensorflow classes\n",
    "  # to back propagate errors, you have to keep track of the gradients of your computation and then apply these gradients to an optimiser\n",
    "  with tf.GradientTape() as tape:\n",
    "    prediction = model(input)\n",
    "    loss = loss_function(target, prediction)\n",
    "  gradients = tape.gradient(loss, model.trainable_variables)\n",
    "  optimizer.apply_gradients(zip(gradients, model.trainable_variables)) #weights are updated here\n",
    "  return loss\n",
    "\n",
    "\n",
    "def test(model, test_data, loss_function): #Can the model generalise to test data?\n",
    "  # test over complete test data\n",
    "\n",
    "  test_accuracy_aggregator = []\n",
    "  test_loss_aggregator = []\n",
    "\n",
    "  for (input, target) in test_data:\n",
    "    prediction = model(input)\n",
    "    sample_test_loss = loss_function(target, prediction)\n",
    "    sample_test_accuracy =  np.argmax(target, axis=1) == np.argmax(prediction, axis=1) #this gives a yes or no\n",
    "    sample_test_accuracy = np.mean(sample_test_accuracy)\n",
    "    test_loss_aggregator.append(sample_test_loss.numpy())\n",
    "    test_accuracy_aggregator.append(np.mean(sample_test_accuracy))\n",
    "\n",
    "  test_loss = tf.reduce_mean(test_loss_aggregator)\n",
    "  test_accuracy = tf.reduce_mean(test_accuracy_aggregator)\n",
    "\n",
    "  return test_loss, test_accuracy #get average loss and accuracy\n",
    "\n",
    "\n",
    "# do we need to get the accuracy of the training for visualisation? could be added here.\n",
    "def training_loop(model, epochs, training_ds, test_ds, loss_function, optimizer):\n",
    "\n",
    "  # variables necessary for visualization\n",
    "  train_losses = []\n",
    "  train_accuracies = []\n",
    "  test_losses = []\n",
    "  test_accuracies = []\n",
    "\n",
    "  #testing once before we begin\n",
    "  test_loss, test_accuracy = test(model, test_ds, loss_function)\n",
    "  test_losses.append(test_loss)\n",
    "  test_accuracies.append(test_accuracy)\n",
    "\n",
    "  for epoch in range(epochs):\n",
    "    print(f'Epoch: {str(epoch)} starting with accuracy {test_accuracies[-1]}')\n",
    "\n",
    "    #training (and checking in with training)\n",
    "    epoch_loss_agg = []\n",
    "    for input,target in train_ds:\n",
    "        train_loss = train_step(model, input, target, loss_function, optimizer)\n",
    "        epoch_loss_agg.append(train_loss)\n",
    "    \n",
    "    #track training loss\n",
    "    train_losses.append(tf.reduce_mean(epoch_loss_agg))\n",
    "\n",
    "    #testing, so we can track accuracy and test loss\n",
    "    test_loss, test_accuracy = test(model, test_ds, loss_function)\n",
    "    test_losses.append(test_loss)\n",
    "    test_accuracies.append(test_accuracy)\n",
    "\n",
    "  return train_losses, test_losses, test_accuracies"
   ]
  },
  {
   "cell_type": "code",
   "execution_count": 13,
   "metadata": {
    "colab": {
     "base_uri": "https://localhost:8080/"
    },
    "id": "Mo3-nq7mZFIo",
    "outputId": "66e4e278-ed94-4cf5-920b-22076da24518"
   },
   "outputs": [
    {
     "name": "stdout",
     "output_type": "stream",
     "text": [
      "Epoch: 0 starting with accuracy 0.09464856230031948\n",
      "Epoch: 1 starting with accuracy 0.9547723642172524\n",
      "Epoch: 2 starting with accuracy 0.9663538338658147\n",
      "Epoch: 3 starting with accuracy 0.9702476038338658\n",
      "Epoch: 4 starting with accuracy 0.9719448881789138\n",
      "Epoch: 5 starting with accuracy 0.9679512779552716\n",
      "Epoch: 6 starting with accuracy 0.9744408945686901\n",
      "Epoch: 7 starting with accuracy 0.9718450479233227\n",
      "Epoch: 8 starting with accuracy 0.9757388178913738\n",
      "Epoch: 9 starting with accuracy 0.9740415335463258\n"
     ]
    }
   ],
   "source": [
    "#run training loop\n",
    "model = MyModel()\n",
    "epochs = 10 #n times through training and test data\n",
    "learning_rate = 0.1\n",
    "loss_function = tf.keras.losses.CategoricalCrossentropy()\n",
    "optimizer = tf.keras.optimizers.SGD(learning_rate)\n",
    "\n",
    "train_loss, test_loss, test_accuracy = training_loop(model=model, \n",
    "                                                     epochs=epochs, \n",
    "                                                     training_ds=train_ds,\n",
    "                                                     test_ds=test_ds, \n",
    "                                                     loss_function=loss_function, \n",
    "                                                     optimizer=optimizer)"
   ]
  },
  {
   "cell_type": "markdown",
   "metadata": {
    "id": "UjtTfdg87XWm"
   },
   "source": [
    "# 2.5 Visualization"
   ]
  },
  {
   "cell_type": "code",
   "execution_count": 14,
   "metadata": {
    "id": "J3FFH4hN6n4D"
   },
   "outputs": [],
   "source": [
    "#incorporate accuracy of the training into plot, if needed\n",
    "def visualization(train_losses, test_losses, test_accuracies):\n",
    "\n",
    "  \"\"\" Visualizes accuracy and loss for training and test data using the mean of each epoch.Loss is displayed in a regular line , accuracy in a dotted\n",
    "  line. Training data is displayed in blue, test data in red .\n",
    "\n",
    "  Parameters\n",
    "  ----------\n",
    "    train_losses : numpy . ndarray\n",
    "    training losses\n",
    "    train_accuracies : numpy . ndarray\n",
    "    training accuracies\n",
    "    test_losses : numpy . ndarray\n",
    "    test losses\n",
    "    test_accuracies : numpy . ndarray\n",
    "    test accuracies\n",
    "  \"\"\"\n",
    "\n",
    "  plt . figure ()\n",
    "  line1 , = plt. plot ( train_losses , \"b-\")\n",
    "  line2 , = plt. plot ( test_losses , \"r-\")\n",
    "  #line3 , = plt. plot ( train_accuracies , \"b:\")\n",
    "  line3 , = plt. plot ( test_accuracies , \"r:\")\n",
    "  plt . xlabel (\" Training steps \")\n",
    "  plt . ylabel (\" Loss / Accuracy \")\n",
    "  plt . legend ((line1, line2, line3), (\" training loss \", \" test loss \", \" train accuracy \", \" test accuracy \"))\n",
    "  plt . show ()"
   ]
  },
  {
   "cell_type": "code",
   "execution_count": 15,
   "metadata": {
    "colab": {
     "base_uri": "https://localhost:8080/",
     "height": 279
    },
    "id": "L7x6cDP17TGd",
    "outputId": "fab61676-8715-4cfe-a826-66c1085e52df"
   },
   "outputs": [
    {
     "data": {
      "image/png": "[encoded data removed]",
      "text/plain": [
       "<Figure size 432x288 with 1 Axes>"
      ]
     },
     "metadata": {
      "needs_background": "light"
     },
     "output_type": "display_data"
    }
   ],
   "source": [
    "import matplotlib.pyplot as plt\n",
    "\n",
    "visualization(train_losses=train_loss, test_losses=test_loss, test_accuracies=test_accuracy)"
   ]
  },
  {
   "cell_type": "markdown",
   "metadata": {
    "id": "9KPgi30o7et9"
   },
   "source": [
    "# 3. Adjusting hyperparameters\n",
    "\n",
    "The main hyperparameters to adjust are:\n",
    "- learning rate\n",
    "- batch size\n",
    "- number and size of layers\n",
    "- optimizer"
   ]
  },
  {
   "cell_type": "markdown",
   "metadata": {
    "id": "z5Q2VXbj7zF5"
   },
   "source": []
  },
  {
   "cell_type": "markdown",
   "metadata": {
    "id": "_hh9w7VIr1Su"
   },
   "source": [
    "\n",
    "> Taking two cases of learning reate (5 epochs are sufficient)\n",
    "\n",
    "\n",
    "---\n",
    "\n",
    "\n",
    "*   0.05 very small learning rate:\n",
    "    \n",
    "    with slightly lower learning rate the gradient update would be slower but results are similar.\n",
    "*   0.5 very high learning rate:\n",
    "\n",
    "    It has adverse effects on the result, as it loses the minima point and is not able to recover. gradients are updated ferociously and are not recoverable.\n",
    "\n",
    "\n",
    "\n"
   ]
  },
  {
   "cell_type": "code",
   "execution_count": null,
   "metadata": {
    "colab": {
     "base_uri": "https://localhost:8080/",
     "height": 400
    },
    "id": "Ap0QF7Tjlo-o",
    "outputId": "28f66215-77dd-4f5a-9fc2-58a4cf4c0712"
   },
   "outputs": [
    {
     "name": "stdout",
     "output_type": "stream",
     "text": [
      "--------- Running with Learning rate :  0.05 ---------\n",
      "Epoch: 0 starting with accuracy 0.10692891373801917\n",
      "Epoch: 1 starting with accuracy 0.9501797124600639\n",
      "Epoch: 2 starting with accuracy 0.963158945686901\n",
      "Epoch: 3 starting with accuracy 0.9704472843450479\n",
      "Epoch: 4 starting with accuracy 0.9732428115015974\n",
      "\n"
     ]
    },
    {
     "data": {
      "image/png": "[encoded data removed]",
      "text/plain": [
       "<Figure size 432x288 with 1 Axes>"
      ]
     },
     "metadata": {
      "needs_background": "light"
     },
     "output_type": "display_data"
    }
   ],
   "source": [
    "#run training loop\n",
    "model = MyModel()\n",
    "epochs = 5 #n times through training and test data\n",
    "learning_rate = 0.05\n",
    "loss_function = tf.keras.losses.CategoricalCrossentropy()\n",
    "\n",
    "print(\"--------- Running with Learning rate : \", learning_rate, \"---------\")\n",
    "optimizer = tf.keras.optimizers.SGD(learning_rate)\n",
    "\n",
    "train_loss, test_loss, test_accuracy = training_loop(model=model, \n",
    "                                                    epochs=epochs, \n",
    "                                                    training_ds=train_ds,\n",
    "                                                    test_ds=test_ds, \n",
    "                                                    loss_function=loss_function, \n",
    "                                                    optimizer=optimizer)\n",
    "\n",
    "print()\n",
    "visualization(train_losses=train_loss, test_losses=test_loss, test_accuracies=test_accuracy)"
   ]
  },
  {
   "cell_type": "code",
   "execution_count": null,
   "metadata": {
    "colab": {
     "base_uri": "https://localhost:8080/",
     "height": 400
    },
    "id": "tEU_7njD7x1Z",
    "outputId": "750173d4-4994-4106-ae7e-9688b7167856"
   },
   "outputs": [
    {
     "name": "stdout",
     "output_type": "stream",
     "text": [
      "--------- Running with Learning rate :  0.5 ---------\n",
      "Epoch: 0 starting with accuracy 0.09774361022364217\n",
      "Epoch: 1 starting with accuracy 0.09804313099041534\n",
      "Epoch: 2 starting with accuracy 0.10083865814696485\n",
      "Epoch: 3 starting with accuracy 0.11351837060702875\n",
      "Epoch: 4 starting with accuracy 0.11351837060702875\n",
      "\n"
     ]
    },
    {
     "data": {
      "image/png": "[encoded data removed]",
      "text/plain": [
       "<Figure size 432x288 with 1 Axes>"
      ]
     },
     "metadata": {
      "needs_background": "light"
     },
     "output_type": "display_data"
    }
   ],
   "source": [
    "#run training loop\n",
    "model = MyModel()\n",
    "epochs = 5 #n times through training and test data\n",
    "learning_rate = 0.5\n",
    "loss_function = tf.keras.losses.CategoricalCrossentropy()\n",
    "\n",
    "print(\"--------- Running with Learning rate : \", learning_rate, \"---------\")\n",
    "optimizer = tf.keras.optimizers.SGD(learning_rate)\n",
    "\n",
    "train_loss, test_loss, test_accuracy = training_loop(model=model, \n",
    "                                                    epochs=epochs, \n",
    "                                                    training_ds=train_ds,\n",
    "                                                    test_ds=test_ds, \n",
    "                                                    loss_function=loss_function, \n",
    "                                                    optimizer=optimizer)\n",
    "\n",
    "print()\n",
    "visualization(train_losses=train_loss, test_losses=test_loss, test_accuracies=test_accuracy)"
   ]
  },
  {
   "cell_type": "markdown",
   "metadata": {
    "id": "M8TTtH3httsA"
   },
   "source": [
    "\n",
    "> Learning rate =0.1 with momentum = 0.1\n",
    "\n",
    "\n",
    "\n",
    "with each batch the weights are updated by the gradients calculated, momentum addition accelerates gradient descent in the relevant direction and dampens oscillations\n"
   ]
  },
  {
   "cell_type": "code",
   "execution_count": null,
   "metadata": {
    "colab": {
     "base_uri": "https://localhost:8080/",
     "height": 383
    },
    "id": "5E4thHYUltLw",
    "outputId": "4352cbd3-b23f-452c-f4f8-bdb5f18804ce"
   },
   "outputs": [
    {
     "name": "stdout",
     "output_type": "stream",
     "text": [
      "Epoch: 0 starting with accuracy 0.056309904153354635\n",
      "Epoch: 1 starting with accuracy 0.9517771565495208\n",
      "Epoch: 2 starting with accuracy 0.9644568690095847\n",
      "Epoch: 3 starting with accuracy 0.9646565495207667\n",
      "Epoch: 4 starting with accuracy 0.9636581469648562\n",
      "\n"
     ]
    },
    {
     "data": {
      "image/png": "[encoded data removed]",
      "text/plain": [
       "<Figure size 432x288 with 1 Axes>"
      ]
     },
     "metadata": {
      "needs_background": "light"
     },
     "output_type": "display_data"
    }
   ],
   "source": [
    "model = MyModel()\n",
    "epochs = 5 #n times through training and test data\n",
    "learning_rate = 0.1\n",
    "loss_function = tf.keras.losses.CategoricalCrossentropy()\n",
    "\n",
    "optimizer = tf.keras.optimizers.SGD(learning_rate, momentum=0.1)\n",
    "\n",
    "train_loss, test_loss, test_accuracy = training_loop(model=model, \n",
    "                                                    epochs=epochs, \n",
    "                                                    training_ds=train_ds,\n",
    "                                                    test_ds=test_ds, \n",
    "                                                    loss_function=loss_function, \n",
    "                                                    optimizer=optimizer)\n",
    "\n",
    "print()\n",
    "visualization(train_losses=train_loss, test_losses=test_loss, test_accuracies=test_accuracy)"
   ]
  },
  {
   "cell_type": "markdown",
   "metadata": {
    "id": "cLrcidFOul7n"
   },
   "source": [
    "\n",
    "> Using Adam optimizer \n",
    "\n",
    "Adam is an adaptive deep neural network training optimizer that has been widely used across a variety of applications. However, on image classification problems, its generalization performance is significantly worse than stochastic gradient descent (SGD).\n",
    "\n"
   ]
  },
  {
   "cell_type": "code",
   "execution_count": null,
   "metadata": {
    "colab": {
     "base_uri": "https://localhost:8080/",
     "height": 383
    },
    "id": "JtrZOWyilyig",
    "outputId": "e31f6a11-5dfa-42d8-8526-1c352e0a585f"
   },
   "outputs": [
    {
     "name": "stdout",
     "output_type": "stream",
     "text": [
      "Epoch: 0 starting with accuracy 0.12320287539936102\n",
      "Epoch: 1 starting with accuracy 0.09824281150159744\n",
      "Epoch: 2 starting with accuracy 0.09824281150159744\n",
      "Epoch: 3 starting with accuracy 0.09824281150159744\n",
      "Epoch: 4 starting with accuracy 0.09824281150159744\n",
      "\n"
     ]
    },
    {
     "data": {
      "image/png": "[encoded data removed]",
      "text/plain": [
       "<Figure size 432x288 with 1 Axes>"
      ]
     },
     "metadata": {
      "needs_background": "light"
     },
     "output_type": "display_data"
    }
   ],
   "source": [
    "model = MyModel()\n",
    "epochs = 5 #n times through training and test data\n",
    "learning_rate = 0.01\n",
    "loss_function = tf.keras.losses.CategoricalCrossentropy()\n",
    "\n",
    "optimizer =tf.keras.optimizers.Adam(learning_rate)\n",
    "\n",
    "train_loss, test_loss, test_accuracy = training_loop(model=model, \n",
    "                                                    epochs=epochs, \n",
    "                                                    training_ds=train_ds,\n",
    "                                                    test_ds=test_ds, \n",
    "                                                    loss_function=loss_function, \n",
    "                                                    optimizer=optimizer)\n",
    "\n",
    "print()\n",
    "visualization(train_losses=train_loss, test_losses=test_loss, test_accuracies=test_accuracy)"
   ]
  },
  {
   "cell_type": "markdown",
   "metadata": {
    "id": "1rDd8cXkwnOs"
   },
   "source": [
    "Changing the size and number of layers\n",
    "\n",
    "1.   128, 128\n",
    "    \n",
    "    less time is taken for the iterations as less number of weights have to be updated. but accuracy is slightly less\n",
    "\n",
    "2.   256, 128\n",
    "\n",
    "    slightly less time is taken and almost similar results to original one\n",
    "\n"
   ]
  },
  {
   "cell_type": "code",
   "execution_count": null,
   "metadata": {
    "colab": {
     "base_uri": "https://localhost:8080/",
     "height": 383
    },
    "id": "0iunAjocukrN",
    "outputId": "444522a4-c798-4a18-ab6b-14e64eeb51f7"
   },
   "outputs": [
    {
     "name": "stdout",
     "output_type": "stream",
     "text": [
      "Epoch: 0 starting with accuracy 0.08306709265175719\n",
      "Epoch: 1 starting with accuracy 0.9459864217252396\n",
      "Epoch: 2 starting with accuracy 0.9617611821086262\n",
      "Epoch: 3 starting with accuracy 0.9644568690095847\n",
      "Epoch: 4 starting with accuracy 0.9653554313099042\n",
      "\n"
     ]
    },
    {
     "data": {
      "image/png": "[encoded data removed]",
      "text/plain": [
       "<Figure size 432x288 with 1 Axes>"
      ]
     },
     "metadata": {
      "needs_background": "light"
     },
     "output_type": "display_data"
    }
   ],
   "source": [
    "model = MyModel(128,128)\n",
    "epochs = 5 #n times through training and test data\n",
    "learning_rate = 0.1\n",
    "loss_function = tf.keras.losses.CategoricalCrossentropy()\n",
    "\n",
    "optimizer = tf.keras.optimizers.SGD(learning_rate, momentum=0.1)\n",
    "\n",
    "train_loss, test_loss, test_accuracy = training_loop(model=model, \n",
    "                                                    epochs=epochs, \n",
    "                                                    training_ds=train_ds,\n",
    "                                                    test_ds=test_ds, \n",
    "                                                    loss_function=loss_function, \n",
    "                                                    optimizer=optimizer)\n",
    "\n",
    "print()\n",
    "visualization(train_losses=train_loss, test_losses=test_loss, test_accuracies=test_accuracy)"
   ]
  },
  {
   "cell_type": "code",
   "execution_count": null,
   "metadata": {
    "colab": {
     "base_uri": "https://localhost:8080/",
     "height": 383
    },
    "id": "D_ZYNHi70dgY",
    "outputId": "7f85054b-5b29-4fdc-b3f1-744e8b6980e4"
   },
   "outputs": [
    {
     "name": "stdout",
     "output_type": "stream",
     "text": [
      "Epoch: 0 starting with accuracy 0.11611421725239617\n",
      "Epoch: 1 starting with accuracy 0.9568690095846646\n",
      "Epoch: 2 starting with accuracy 0.9624600638977636\n",
      "Epoch: 3 starting with accuracy 0.9674520766773163\n",
      "Epoch: 4 starting with accuracy 0.9709464856230032\n",
      "\n"
     ]
    },
    {
     "data": {
      "image/png": "[encoded data removed]",
      "text/plain": [
       "<Figure size 432x288 with 1 Axes>"
      ]
     },
     "metadata": {
      "needs_background": "light"
     },
     "output_type": "display_data"
    }
   ],
   "source": [
    "model = MyModel(256,128)\n",
    "epochs = 5 #n times through training and test data\n",
    "learning_rate = 0.1\n",
    "loss_function = tf.keras.losses.CategoricalCrossentropy()\n",
    "\n",
    "optimizer = tf.keras.optimizers.SGD(learning_rate, momentum=0.1)\n",
    "\n",
    "train_loss, test_loss, test_accuracy = training_loop(model=model, \n",
    "                                                    epochs=epochs, \n",
    "                                                    training_ds=train_ds,\n",
    "                                                    test_ds=test_ds, \n",
    "                                                    loss_function=loss_function, \n",
    "                                                    optimizer=optimizer)\n",
    "print()\n",
    "visualization(train_losses=train_loss, test_losses=test_loss, test_accuracies=test_accuracy)"
   ]
  }
 ],
 "metadata": {
  "colab": {
   "provenance": []
  },
  "kernelspec": {
   "display_name": "Python 3 (ipykernel)",
   "language": "python",
   "name": "python3"
  },
  "language_info": {
   "codemirror_mode": {
    "name": "ipython",
    "version": 3
   },
   "file_extension": ".py",
   "mimetype": "text/x-python",
   "name": "python",
   "nbconvert_exporter": "python",
   "pygments_lexer": "ipython3",
   "version": "3.9.16"
  },
  "widgets": {
   "application/vnd.jupyter.widget-state+json": {
    "05d6e2c71ed94809a106c0cc0ff68e72": {
     "model_module": "@jupyter-widgets/controls",
     "model_module_version": "1.5.0",
     "model_name": "DescriptionStyleModel",
     "state": {
      "_model_module": "@jupyter-widgets/controls",
      "_model_module_version": "1.5.0",
      "_model_name": "DescriptionStyleModel",
      "_view_count": null,
      "_view_module": "@jupyter-widgets/base",
      "_view_module_version": "1.2.0",
      "_view_name": "StyleView",
      "description_width": ""
     }
    },
    "14c2d3b34f454cf4b171a358cdc627b5": {
     "model_module": "@jupyter-widgets/controls",
     "model_module_version": "1.5.0",
     "model_name": "HTMLModel",
     "state": {
      "_dom_classes": [],
      "_model_module": "@jupyter-widgets/controls",
      "_model_module_version": "1.5.0",
      "_model_name": "HTMLModel",
      "_view_count": null,
      "_view_module": "@jupyter-widgets/controls",
      "_view_module_version": "1.5.0",
      "_view_name": "HTMLView",
      "description": "",
      "description_tooltip": null,
      "layout": "IPY_MODEL_c693700c568947158751f9f9e46f5fa4",
      "placeholder": "​",
      "style": "IPY_MODEL_7dd9fd27aee54a108f7e01a6c1ec57ad",
      "value": " 4/4 [00:00&lt;00:00,  4.95 file/s]"
     }
    },
    "2f0a4a2b0dc948bd8010be0b25476f24": {
     "model_module": "@jupyter-widgets/controls",
     "model_module_version": "1.5.0",
     "model_name": "HTMLModel",
     "state": {
      "_dom_classes": [],
      "_model_module": "@jupyter-widgets/controls",
      "_model_module_version": "1.5.0",
      "_model_name": "HTMLModel",
      "_view_count": null,
      "_view_module": "@jupyter-widgets/controls",
      "_view_module_version": "1.5.0",
      "_view_name": "HTMLView",
      "description": "",
      "description_tooltip": null,
      "layout": "IPY_MODEL_81d8653d94c944b48a3362230543bf66",
      "placeholder": "​",
      "style": "IPY_MODEL_05d6e2c71ed94809a106c0cc0ff68e72",
      "value": "Dl Completed...: 100%"
     }
    },
    "349d7ee2912e4e599619e0997e0e32cb": {
     "model_module": "@jupyter-widgets/controls",
     "model_module_version": "1.5.0",
     "model_name": "HBoxModel",
     "state": {
      "_dom_classes": [],
      "_model_module": "@jupyter-widgets/controls",
      "_model_module_version": "1.5.0",
      "_model_name": "HBoxModel",
      "_view_count": null,
      "_view_module": "@jupyter-widgets/controls",
      "_view_module_version": "1.5.0",
      "_view_name": "HBoxView",
      "box_style": "",
      "children": [
       "IPY_MODEL_2f0a4a2b0dc948bd8010be0b25476f24",
       "IPY_MODEL_e30a7024a3094535a10fa5df37057152",
       "IPY_MODEL_14c2d3b34f454cf4b171a358cdc627b5"
      ],
      "layout": "IPY_MODEL_787bd199a4ce43d997835002a3fa240b"
     }
    },
    "5eda107771534b12b1b8270f4e989d1c": {
     "model_module": "@jupyter-widgets/base",
     "model_module_version": "1.2.0",
     "model_name": "LayoutModel",
     "state": {
      "_model_module": "@jupyter-widgets/base",
      "_model_module_version": "1.2.0",
      "_model_name": "LayoutModel",
      "_view_count": null,
      "_view_module": "@jupyter-widgets/base",
      "_view_module_version": "1.2.0",
      "_view_name": "LayoutView",
      "align_content": null,
      "align_items": null,
      "align_self": null,
      "border": null,
      "bottom": null,
      "display": null,
      "flex": null,
      "flex_flow": null,
      "grid_area": null,
      "grid_auto_columns": null,
      "grid_auto_flow": null,
      "grid_auto_rows": null,
      "grid_column": null,
      "grid_gap": null,
      "grid_row": null,
      "grid_template_areas": null,
      "grid_template_columns": null,
      "grid_template_rows": null,
      "height": null,
      "justify_content": null,
      "justify_items": null,
      "left": null,
      "margin": null,
      "max_height": null,
      "max_width": null,
      "min_height": null,
      "min_width": null,
      "object_fit": null,
      "object_position": null,
      "order": null,
      "overflow": null,
      "overflow_x": null,
      "overflow_y": null,
      "padding": null,
      "right": null,
      "top": null,
      "visibility": null,
      "width": null
     }
    },
    "787bd199a4ce43d997835002a3fa240b": {
     "model_module": "@jupyter-widgets/base",
     "model_module_version": "1.2.0",
     "model_name": "LayoutModel",
     "state": {
      "_model_module": "@jupyter-widgets/base",
      "_model_module_version": "1.2.0",
      "_model_name": "LayoutModel",
      "_view_count": null,
      "_view_module": "@jupyter-widgets/base",
      "_view_module_version": "1.2.0",
      "_view_name": "LayoutView",
      "align_content": null,
      "align_items": null,
      "align_self": null,
      "border": null,
      "bottom": null,
      "display": null,
      "flex": null,
      "flex_flow": null,
      "grid_area": null,
      "grid_auto_columns": null,
      "grid_auto_flow": null,
      "grid_auto_rows": null,
      "grid_column": null,
      "grid_gap": null,
      "grid_row": null,
      "grid_template_areas": null,
      "grid_template_columns": null,
      "grid_template_rows": null,
      "height": null,
      "justify_content": null,
      "justify_items": null,
      "left": null,
      "margin": null,
      "max_height": null,
      "max_width": null,
      "min_height": null,
      "min_width": null,
      "object_fit": null,
      "object_position": null,
      "order": null,
      "overflow": null,
      "overflow_x": null,
      "overflow_y": null,
      "padding": null,
      "right": null,
      "top": null,
      "visibility": null,
      "width": null
     }
    },
    "7dd9fd27aee54a108f7e01a6c1ec57ad": {
     "model_module": "@jupyter-widgets/controls",
     "model_module_version": "1.5.0",
     "model_name": "DescriptionStyleModel",
     "state": {
      "_model_module": "@jupyter-widgets/controls",
      "_model_module_version": "1.5.0",
      "_model_name": "DescriptionStyleModel",
      "_view_count": null,
      "_view_module": "@jupyter-widgets/base",
      "_view_module_version": "1.2.0",
      "_view_name": "StyleView",
      "description_width": ""
     }
    },
    "81d8653d94c944b48a3362230543bf66": {
     "model_module": "@jupyter-widgets/base",
     "model_module_version": "1.2.0",
     "model_name": "LayoutModel",
     "state": {
      "_model_module": "@jupyter-widgets/base",
      "_model_module_version": "1.2.0",
      "_model_name": "LayoutModel",
      "_view_count": null,
      "_view_module": "@jupyter-widgets/base",
      "_view_module_version": "1.2.0",
      "_view_name": "LayoutView",
      "align_content": null,
      "align_items": null,
      "align_self": null,
      "border": null,
      "bottom": null,
      "display": null,
      "flex": null,
      "flex_flow": null,
      "grid_area": null,
      "grid_auto_columns": null,
      "grid_auto_flow": null,
      "grid_auto_rows": null,
      "grid_column": null,
      "grid_gap": null,
      "grid_row": null,
      "grid_template_areas": null,
      "grid_template_columns": null,
      "grid_template_rows": null,
      "height": null,
      "justify_content": null,
      "justify_items": null,
      "left": null,
      "margin": null,
      "max_height": null,
      "max_width": null,
      "min_height": null,
      "min_width": null,
      "object_fit": null,
      "object_position": null,
      "order": null,
      "overflow": null,
      "overflow_x": null,
      "overflow_y": null,
      "padding": null,
      "right": null,
      "top": null,
      "visibility": null,
      "width": null
     }
    },
    "c693700c568947158751f9f9e46f5fa4": {
     "model_module": "@jupyter-widgets/base",
     "model_module_version": "1.2.0",
     "model_name": "LayoutModel",
     "state": {
      "_model_module": "@jupyter-widgets/base",
      "_model_module_version": "1.2.0",
      "_model_name": "LayoutModel",
      "_view_count": null,
      "_view_module": "@jupyter-widgets/base",
      "_view_module_version": "1.2.0",
      "_view_name": "LayoutView",
      "align_content": null,
      "align_items": null,
      "align_self": null,
      "border": null,
      "bottom": null,
      "display": null,
      "flex": null,
      "flex_flow": null,
      "grid_area": null,
      "grid_auto_columns": null,
      "grid_auto_flow": null,
      "grid_auto_rows": null,
      "grid_column": null,
      "grid_gap": null,
      "grid_row": null,
      "grid_template_areas": null,
      "grid_template_columns": null,
      "grid_template_rows": null,
      "height": null,
      "justify_content": null,
      "justify_items": null,
      "left": null,
      "margin": null,
      "max_height": null,
      "max_width": null,
      "min_height": null,
      "min_width": null,
      "object_fit": null,
      "object_position": null,
      "order": null,
      "overflow": null,
      "overflow_x": null,
      "overflow_y": null,
      "padding": null,
      "right": null,
      "top": null,
      "visibility": null,
      "width": null
     }
    },
    "d9f407d627dd45db9e8095e8556a1d23": {
     "model_module": "@jupyter-widgets/controls",
     "model_module_version": "1.5.0",
     "model_name": "ProgressStyleModel",
     "state": {
      "_model_module": "@jupyter-widgets/controls",
      "_model_module_version": "1.5.0",
      "_model_name": "ProgressStyleModel",
      "_view_count": null,
      "_view_module": "@jupyter-widgets/base",
      "_view_module_version": "1.2.0",
      "_view_name": "StyleView",
      "bar_color": null,
      "description_width": ""
     }
    },
    "e30a7024a3094535a10fa5df37057152": {
     "model_module": "@jupyter-widgets/controls",
     "model_module_version": "1.5.0",
     "model_name": "FloatProgressModel",
     "state": {
      "_dom_classes": [],
      "_model_module": "@jupyter-widgets/controls",
      "_model_module_version": "1.5.0",
      "_model_name": "FloatProgressModel",
      "_view_count": null,
      "_view_module": "@jupyter-widgets/controls",
      "_view_module_version": "1.5.0",
      "_view_name": "ProgressView",
      "bar_style": "success",
      "description": "",
      "description_tooltip": null,
      "layout": "IPY_MODEL_5eda107771534b12b1b8270f4e989d1c",
      "max": 4,
      "min": 0,
      "orientation": "horizontal",
      "style": "IPY_MODEL_d9f407d627dd45db9e8095e8556a1d23",
      "value": 4
     }
    }
   }
  }
 },
 "nbformat": 4,
 "nbformat_minor": 1
}
