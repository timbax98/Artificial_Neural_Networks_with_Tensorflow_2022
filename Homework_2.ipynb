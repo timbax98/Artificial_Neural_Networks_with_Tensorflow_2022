{
 "cells": [
  {
   "cell_type": "markdown",
   "id": "onkUEIXtyPZd",
   "metadata": {
    "id": "onkUEIXtyPZd"
   },
   "source": [
    "# Homework 2 - Multi-Layer Perceptron \n",
    "\n"
   ]
  },
  {
   "cell_type": "markdown",
   "id": "5uQUxpRSyic4",
   "metadata": {
    "id": "5uQUxpRSyic4"
   },
   "source": [
    "# Task 01 - Builing your data set"
   ]
  },
  {
   "cell_type": "code",
   "execution_count": 1,
   "id": "f58c880f",
   "metadata": {
    "colab": {
     "base_uri": "https://localhost:8080/",
     "height": 265
    },
    "id": "f58c880f",
    "outputId": "4282ebbe-177c-4631-e138-42ff0ba51c90"
   },
   "outputs": [
    {
     "data": {
      "image/png": "[encoded data removed]",
      "text/plain": [
       "<Figure size 432x288 with 1 Axes>"
      ]
     },
     "metadata": {
      "needs_background": "light"
     },
     "output_type": "display_data"
    }
   ],
   "source": [
    "import numpy as np\n",
    "\n",
    "import matplotlib.pyplot as plt\n",
    "\n",
    "# 1. 100 random numbers between 0 and 1 = input values\n",
    "x = np.random.rand(100,1)\n",
    "\n",
    "# 2. calculate targets\n",
    "t = np.asarray([val**3 - val**2 + 1 for i,val in enumerate(x)])\n",
    "\n",
    "# Optional: Plot data along underlying function\n",
    "plt.plot(x, t, 'o')\n",
    "plt.show()"
   ]
  },
  {
   "cell_type": "markdown",
   "id": "a28CBR8wzQcF",
   "metadata": {
    "id": "a28CBR8wzQcF"
   },
   "source": [
    "# Task 02 - Perceptrons\n"
   ]
  },
  {
   "cell_type": "code",
   "execution_count": 2,
   "id": "1ed9bf8a",
   "metadata": {
    "id": "1ed9bf8a"
   },
   "outputs": [],
   "source": [
    "# 1. Layer class with constructor instantiating bias vector, weight matrix and layer inputs + (pre)activation\n",
    "class Layer:\n",
    "    def __init__(self, input_units, n_units):\n",
    "        \n",
    "        # init bias and weight \n",
    "        self.bias = np.zeros((1, n_units))\n",
    "        self.weight = np.random.rand(input_units, n_units)\n",
    "        \n",
    "        # init layer parameters\n",
    "        self.layer_input = None\n",
    "        self.layer_preactivation = None\n",
    "        self.layer_activation = None\n",
    "      \n",
    "\n",
    "    # 2. method returning each unit’s activation using ReLu as the activation function.\n",
    "    def forward_step(self, data_in):\n",
    "\n",
    "        # assign data input to layer_input variable\n",
    "        self.layer_input = data_in  \n",
    "\n",
    "        #perform matrix multiplication and add bias\n",
    "        matrix_mult = self.layer_input @ self.weight + self.bias\n",
    "\n",
    "        # sum up the the columns to get the preactivation of te layer and assign it to variable\n",
    "        matrix_mult = [sum(x) for x in zip(*matrix_mult)]\n",
    "        self.layer_preactivation = np.transpose(matrix_mult) \n",
    "\n",
    "        # compute the unit layer activation using  ReLu and store into variable\n",
    "        unit_activation = np.zeros(self.layer_preactivation.shape)   \n",
    "        for i, val in enumerate(self.layer_preactivation):\n",
    "          relu = max(0.0, val)\n",
    "          unit_activation[i] = relu\n",
    "\n",
    "        self.layer_activation = unit_activation \n",
    "        return unit_activation\n",
    "\n",
    "\n",
    "    # 3. method: updates each unit’s parameters (i.e. weights and bias) \n",
    "    def backward_step(self, targ):\n",
    "\n",
    "        # compute the preativations derivative\n",
    "        ReLU_preactivation_der = np.zeros(self.layer_preactivation.shape)\n",
    "        for ind, val in enumerate(self.layer_preactivation):\n",
    "            if val <= 0:\n",
    "                ReLU_preactivation_der[ind] = 0.0\n",
    "            else:\n",
    "                ReLU_preactivation_der[ind] = 1.0\n",
    "\n",
    "        # compute the weights gradients\n",
    "        grad_w = np.zeros(self.weight.shape)\n",
    "        for i in range(len(self.layer_input)):\n",
    "          for j in range(len(self.layer_activation)):\n",
    "            grad_w[i,j] = self.layer_input[i] * ReLU_preactivation_der[j] * (self.layer_activation[j] - t[i])\n",
    "\n",
    "        # compute the gradients of biases and inputs\n",
    "        grad_b = ReLU_preactivation_der * (self.layer_activation - t[i])\n",
    "        grad_i =  (grad_b) @ np.transpose(self.weight)\n",
    "        \n",
    "        #update weights and bias\n",
    "        self.weight = self.weight - 0.01 * grad_w\n",
    "        self.bias = self.bias - 0.01 * grad_b\n",
    "\n",
    "        return grad_i"
   ]
  },
  {
   "cell_type": "markdown",
   "id": "RAn_eqdD1GF3",
   "metadata": {
    "id": "RAn_eqdD1GF3"
   },
   "source": [
    "# Task 03 - Multi-Layer Perceptron\n"
   ]
  },
  {
   "cell_type": "code",
   "execution_count": 3,
   "id": "pouJf5Vo1UIb",
   "metadata": {
    "id": "pouJf5Vo1UIb"
   },
   "outputs": [],
   "source": [
    "# MLP class\n",
    "class MLP:\n",
    "    def __init__(self, input_units, n_units, n_layers):\n",
    "\n",
    "        # initialize a the MLP -> put it into an array storing each layer\n",
    "        self.layers = []   \n",
    "        for i in range(n_layers):\n",
    "            self.layers.append(Layer(input_units[i], n_units[i]))\n",
    "\n",
    "\n",
    "    # method passing input through entire network\n",
    "    def forward_step(self, data_in):\n",
    "      inp = data_in\n",
    "      for layer in self.layers:\n",
    "        inp = layer.forward_step(inp)\n",
    "      return inp\n",
    "\n",
    "\n",
    "    # backpropagation method updating all weights and biases given a loss\n",
    "    def backpropagation(self, loss):  \n",
    "      prev_layer_act = loss \n",
    "      for lay in reversed(self.layers):\n",
    "        prev_layer_act = lay.backward_step(prev_layer_act)\n",
    "        "
   ]
  },
  {
   "cell_type": "markdown",
   "id": "0ppJB1f76sSM",
   "metadata": {
    "id": "0ppJB1f76sSM"
   },
   "source": [
    "# Task 04 - Training\n"
   ]
  },
  {
   "cell_type": "code",
   "execution_count": 4,
   "id": "Ag2dDNGG6-LK",
   "metadata": {
    "id": "Ag2dDNGG6-LK"
   },
   "outputs": [],
   "source": [
    "# 1. MLP: hidden layer (10 units), output layer (1 unit)\n",
    "\n",
    "# define variables\n",
    "n_in = 1\n",
    "u_hidLay = 10\n",
    "u_outLay = 1\n",
    "lay_count = 2\n",
    "epochs = 1000\n",
    "\n",
    "# create MLP\n",
    "mlp = MLP([n_in, u_hidLay], [u_hidLay, u_outLay], lay_count)\n",
    "\n",
    "# variable svaing the losses\n",
    "loss_list = np.zeros((epochs, len(x)))\n",
    "\n",
    "# 2. train MLP for 1000 epohs calulating the losses \n",
    "for i in range(epochs):\n",
    "\n",
    "  # show every datapoint per epoch, one at a time\n",
    "  for j in range(len(x)):\n",
    "    out = mlp.forward_step(x[j])\n",
    "    # calculate losses\n",
    "    mse = 1/2*(out - t[j])**2\n",
    "    mlp.backpropagation(mse)\n",
    "    loss_list[i, j] = mse\n"
   ]
  },
  {
   "cell_type": "markdown",
   "id": "KU4TZTlU7_10",
   "metadata": {
    "id": "KU4TZTlU7_10"
   },
   "source": [
    "# Task 05 - Visualization\n"
   ]
  },
  {
   "cell_type": "code",
   "execution_count": 5,
   "id": "qXq0V0jUPHMc",
   "metadata": {
    "colab": {
     "base_uri": "https://localhost:8080/",
     "height": 295
    },
    "id": "qXq0V0jUPHMc",
    "outputId": "89c0c8bc-028f-4fdd-caf5-531d168fe47d"
   },
   "outputs": [
    {
     "data": {
      "image/png": "[encoded data removed]",
      "text/plain": [
       "<Figure size 432x288 with 1 Axes>"
      ]
     },
     "metadata": {
      "needs_background": "light"
     },
     "output_type": "display_data"
    }
   ],
   "source": [
    "# variable saving the average losses per epoch\n",
    "av_losses = []\n",
    "\n",
    "# compute average losses per epoch\n",
    "for i in range(epochs):\n",
    "  epoch_mean = loss_list[i].mean()\n",
    "  av_losses.append(epoch_mean)\n",
    "  \n",
    "# plot average losses over epochs\n",
    "plt.plot(av_losses);\n",
    "plt.axhline(y=0, xmin=0, xmax=1000, color='red',linewidth=0.5)\n",
    "plt.xlabel('Epochs');\n",
    "plt.ylabel('Average loss');\n",
    "plt.title('Development of losses');"
   ]
  }
 ],
 "metadata": {
  "colab": {
   "collapsed_sections": [],
   "provenance": []
  },
  "kernelspec": {
   "display_name": "Python 3 (ipykernel)",
   "language": "python",
   "name": "python3"
  },
  "language_info": {
   "codemirror_mode": {
    "name": "ipython",
    "version": 3
   },
   "file_extension": ".py",
   "mimetype": "text/x-python",
   "name": "python",
   "nbconvert_exporter": "python",
   "pygments_lexer": "ipython3",
   "version": "3.9.16"
  }
 },
 "nbformat": 4,
 "nbformat_minor": 5
}
