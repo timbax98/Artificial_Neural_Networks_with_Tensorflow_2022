{
  "nbformat": 4,
  "nbformat_minor": 0,
  "metadata": {
    "colab": {
      "provenance": []
    },
    "kernelspec": {
      "name": "python3",
      "display_name": "Python 3"
    },
    "language_info": {
      "name": "python"
    },
    "widgets": {
      "application/vnd.jupyter.widget-state+json": {
        "42842c95b5bb4d7d976b7e033a71fc38": {
          "model_module": "@jupyter-widgets/controls",
          "model_name": "HBoxModel",
          "model_module_version": "1.5.0",
          "state": {
            "_dom_classes": [],
            "_model_module": "@jupyter-widgets/controls",
            "_model_module_version": "1.5.0",
            "_model_name": "HBoxModel",
            "_view_count": null,
            "_view_module": "@jupyter-widgets/controls",
            "_view_module_version": "1.5.0",
            "_view_name": "HBoxView",
            "box_style": "",
            "children": [
              "IPY_MODEL_38e59eddda8d439bb707f7407909453e",
              "IPY_MODEL_b5882febbe4b47c68db1a09dfbc3b947",
              "IPY_MODEL_aec735c51a844872821d05cf73389b71"
            ],
            "layout": "IPY_MODEL_683d8c37ea434ef693c227365edc29c9"
          }
        },
        "38e59eddda8d439bb707f7407909453e": {
          "model_module": "@jupyter-widgets/controls",
          "model_name": "HTMLModel",
          "model_module_version": "1.5.0",
          "state": {
            "_dom_classes": [],
            "_model_module": "@jupyter-widgets/controls",
            "_model_module_version": "1.5.0",
            "_model_name": "HTMLModel",
            "_view_count": null,
            "_view_module": "@jupyter-widgets/controls",
            "_view_module_version": "1.5.0",
            "_view_name": "HTMLView",
            "description": "",
            "description_tooltip": null,
            "layout": "IPY_MODEL_55cd79ec63314d62833b679fb7260727",
            "placeholder": "​",
            "style": "IPY_MODEL_f96543a2b6ad406092a709060898b2b3",
            "value": "Dl Completed...: 100%"
          }
        },
        "b5882febbe4b47c68db1a09dfbc3b947": {
          "model_module": "@jupyter-widgets/controls",
          "model_name": "FloatProgressModel",
          "model_module_version": "1.5.0",
          "state": {
            "_dom_classes": [],
            "_model_module": "@jupyter-widgets/controls",
            "_model_module_version": "1.5.0",
            "_model_name": "FloatProgressModel",
            "_view_count": null,
            "_view_module": "@jupyter-widgets/controls",
            "_view_module_version": "1.5.0",
            "_view_name": "ProgressView",
            "bar_style": "success",
            "description": "",
            "description_tooltip": null,
            "layout": "IPY_MODEL_1afab4b29f0b4c60af0cdd69efb97557",
            "max": 5,
            "min": 0,
            "orientation": "horizontal",
            "style": "IPY_MODEL_9e98f66cd6a34c05af945d0a72028b4c",
            "value": 5
          }
        },
        "aec735c51a844872821d05cf73389b71": {
          "model_module": "@jupyter-widgets/controls",
          "model_name": "HTMLModel",
          "model_module_version": "1.5.0",
          "state": {
            "_dom_classes": [],
            "_model_module": "@jupyter-widgets/controls",
            "_model_module_version": "1.5.0",
            "_model_name": "HTMLModel",
            "_view_count": null,
            "_view_module": "@jupyter-widgets/controls",
            "_view_module_version": "1.5.0",
            "_view_name": "HTMLView",
            "description": "",
            "description_tooltip": null,
            "layout": "IPY_MODEL_e5860c2f755e46c89c087a5a0b2afc5f",
            "placeholder": "​",
            "style": "IPY_MODEL_a79c9de31e1d47399a12d5ec8efaaf55",
            "value": " 5/5 [00:00&lt;00:00, 12.30 file/s]"
          }
        },
        "683d8c37ea434ef693c227365edc29c9": {
          "model_module": "@jupyter-widgets/base",
          "model_name": "LayoutModel",
          "model_module_version": "1.2.0",
          "state": {
            "_model_module": "@jupyter-widgets/base",
            "_model_module_version": "1.2.0",
            "_model_name": "LayoutModel",
            "_view_count": null,
            "_view_module": "@jupyter-widgets/base",
            "_view_module_version": "1.2.0",
            "_view_name": "LayoutView",
            "align_content": null,
            "align_items": null,
            "align_self": null,
            "border": null,
            "bottom": null,
            "display": null,
            "flex": null,
            "flex_flow": null,
            "grid_area": null,
            "grid_auto_columns": null,
            "grid_auto_flow": null,
            "grid_auto_rows": null,
            "grid_column": null,
            "grid_gap": null,
            "grid_row": null,
            "grid_template_areas": null,
            "grid_template_columns": null,
            "grid_template_rows": null,
            "height": null,
            "justify_content": null,
            "justify_items": null,
            "left": null,
            "margin": null,
            "max_height": null,
            "max_width": null,
            "min_height": null,
            "min_width": null,
            "object_fit": null,
            "object_position": null,
            "order": null,
            "overflow": null,
            "overflow_x": null,
            "overflow_y": null,
            "padding": null,
            "right": null,
            "top": null,
            "visibility": null,
            "width": null
          }
        },
        "55cd79ec63314d62833b679fb7260727": {
          "model_module": "@jupyter-widgets/base",
          "model_name": "LayoutModel",
          "model_module_version": "1.2.0",
          "state": {
            "_model_module": "@jupyter-widgets/base",
            "_model_module_version": "1.2.0",
            "_model_name": "LayoutModel",
            "_view_count": null,
            "_view_module": "@jupyter-widgets/base",
            "_view_module_version": "1.2.0",
            "_view_name": "LayoutView",
            "align_content": null,
            "align_items": null,
            "align_self": null,
            "border": null,
            "bottom": null,
            "display": null,
            "flex": null,
            "flex_flow": null,
            "grid_area": null,
            "grid_auto_columns": null,
            "grid_auto_flow": null,
            "grid_auto_rows": null,
            "grid_column": null,
            "grid_gap": null,
            "grid_row": null,
            "grid_template_areas": null,
            "grid_template_columns": null,
            "grid_template_rows": null,
            "height": null,
            "justify_content": null,
            "justify_items": null,
            "left": null,
            "margin": null,
            "max_height": null,
            "max_width": null,
            "min_height": null,
            "min_width": null,
            "object_fit": null,
            "object_position": null,
            "order": null,
            "overflow": null,
            "overflow_x": null,
            "overflow_y": null,
            "padding": null,
            "right": null,
            "top": null,
            "visibility": null,
            "width": null
          }
        },
        "f96543a2b6ad406092a709060898b2b3": {
          "model_module": "@jupyter-widgets/controls",
          "model_name": "DescriptionStyleModel",
          "model_module_version": "1.5.0",
          "state": {
            "_model_module": "@jupyter-widgets/controls",
            "_model_module_version": "1.5.0",
            "_model_name": "DescriptionStyleModel",
            "_view_count": null,
            "_view_module": "@jupyter-widgets/base",
            "_view_module_version": "1.2.0",
            "_view_name": "StyleView",
            "description_width": ""
          }
        },
        "1afab4b29f0b4c60af0cdd69efb97557": {
          "model_module": "@jupyter-widgets/base",
          "model_name": "LayoutModel",
          "model_module_version": "1.2.0",
          "state": {
            "_model_module": "@jupyter-widgets/base",
            "_model_module_version": "1.2.0",
            "_model_name": "LayoutModel",
            "_view_count": null,
            "_view_module": "@jupyter-widgets/base",
            "_view_module_version": "1.2.0",
            "_view_name": "LayoutView",
            "align_content": null,
            "align_items": null,
            "align_self": null,
            "border": null,
            "bottom": null,
            "display": null,
            "flex": null,
            "flex_flow": null,
            "grid_area": null,
            "grid_auto_columns": null,
            "grid_auto_flow": null,
            "grid_auto_rows": null,
            "grid_column": null,
            "grid_gap": null,
            "grid_row": null,
            "grid_template_areas": null,
            "grid_template_columns": null,
            "grid_template_rows": null,
            "height": null,
            "justify_content": null,
            "justify_items": null,
            "left": null,
            "margin": null,
            "max_height": null,
            "max_width": null,
            "min_height": null,
            "min_width": null,
            "object_fit": null,
            "object_position": null,
            "order": null,
            "overflow": null,
            "overflow_x": null,
            "overflow_y": null,
            "padding": null,
            "right": null,
            "top": null,
            "visibility": null,
            "width": null
          }
        },
        "9e98f66cd6a34c05af945d0a72028b4c": {
          "model_module": "@jupyter-widgets/controls",
          "model_name": "ProgressStyleModel",
          "model_module_version": "1.5.0",
          "state": {
            "_model_module": "@jupyter-widgets/controls",
            "_model_module_version": "1.5.0",
            "_model_name": "ProgressStyleModel",
            "_view_count": null,
            "_view_module": "@jupyter-widgets/base",
            "_view_module_version": "1.2.0",
            "_view_name": "StyleView",
            "bar_color": null,
            "description_width": ""
          }
        },
        "e5860c2f755e46c89c087a5a0b2afc5f": {
          "model_module": "@jupyter-widgets/base",
          "model_name": "LayoutModel",
          "model_module_version": "1.2.0",
          "state": {
            "_model_module": "@jupyter-widgets/base",
            "_model_module_version": "1.2.0",
            "_model_name": "LayoutModel",
            "_view_count": null,
            "_view_module": "@jupyter-widgets/base",
            "_view_module_version": "1.2.0",
            "_view_name": "LayoutView",
            "align_content": null,
            "align_items": null,
            "align_self": null,
            "border": null,
            "bottom": null,
            "display": null,
            "flex": null,
            "flex_flow": null,
            "grid_area": null,
            "grid_auto_columns": null,
            "grid_auto_flow": null,
            "grid_auto_rows": null,
            "grid_column": null,
            "grid_gap": null,
            "grid_row": null,
            "grid_template_areas": null,
            "grid_template_columns": null,
            "grid_template_rows": null,
            "height": null,
            "justify_content": null,
            "justify_items": null,
            "left": null,
            "margin": null,
            "max_height": null,
            "max_width": null,
            "min_height": null,
            "min_width": null,
            "object_fit": null,
            "object_position": null,
            "order": null,
            "overflow": null,
            "overflow_x": null,
            "overflow_y": null,
            "padding": null,
            "right": null,
            "top": null,
            "visibility": null,
            "width": null
          }
        },
        "a79c9de31e1d47399a12d5ec8efaaf55": {
          "model_module": "@jupyter-widgets/controls",
          "model_name": "DescriptionStyleModel",
          "model_module_version": "1.5.0",
          "state": {
            "_model_module": "@jupyter-widgets/controls",
            "_model_module_version": "1.5.0",
            "_model_name": "DescriptionStyleModel",
            "_view_count": null,
            "_view_module": "@jupyter-widgets/base",
            "_view_module_version": "1.2.0",
            "_view_name": "StyleView",
            "description_width": ""
          }
        }
      }
    }
  },
  "cells": [
    {
      "cell_type": "code",
      "execution_count": 1,
      "metadata": {
        "colab": {
          "base_uri": "https://localhost:8080/"
        },
        "id": "yFwkJB530jv2",
        "outputId": "77b96217-1dce-465d-a054-30c838247562"
      },
      "outputs": [
        {
          "output_type": "stream",
          "name": "stdout",
          "text": [
            "Looking in indexes: https://pypi.org/simple, https://us-python.pkg.dev/colab-wheels/public/simple/\n",
            "Collecting keras_cv\n",
            "  Downloading keras_cv-0.4.1-py3-none-any.whl (615 kB)\n",
            "\u001b[2K     \u001b[90m━━━━━━━━━━━━━━━━━━━━━━━━━━━━━━━━━━━━━━\u001b[0m \u001b[32m615.8/615.8 KB\u001b[0m \u001b[31m11.5 MB/s\u001b[0m eta \u001b[36m0:00:00\u001b[0m\n",
            "\u001b[?25hRequirement already satisfied: absl-py in /usr/local/lib/python3.8/dist-packages (from keras_cv) (1.3.0)\n",
            "Requirement already satisfied: packaging in /usr/local/lib/python3.8/dist-packages (from keras_cv) (21.3)\n",
            "Requirement already satisfied: tensorflow-datasets in /usr/local/lib/python3.8/dist-packages (from keras_cv) (4.6.0)\n",
            "Requirement already satisfied: regex in /usr/local/lib/python3.8/dist-packages (from keras_cv) (2022.6.2)\n",
            "Requirement already satisfied: pyparsing!=3.0.5,>=2.0.2 in /usr/local/lib/python3.8/dist-packages (from packaging->keras_cv) (3.0.9)\n",
            "Requirement already satisfied: promise in /usr/local/lib/python3.8/dist-packages (from tensorflow-datasets->keras_cv) (2.3)\n",
            "Requirement already satisfied: toml in /usr/local/lib/python3.8/dist-packages (from tensorflow-datasets->keras_cv) (0.10.2)\n",
            "Requirement already satisfied: six in /usr/local/lib/python3.8/dist-packages (from tensorflow-datasets->keras_cv) (1.15.0)\n",
            "Requirement already satisfied: termcolor in /usr/local/lib/python3.8/dist-packages (from tensorflow-datasets->keras_cv) (2.1.1)\n",
            "Requirement already satisfied: protobuf>=3.12.2 in /usr/local/lib/python3.8/dist-packages (from tensorflow-datasets->keras_cv) (3.19.6)\n",
            "Requirement already satisfied: importlib-resources in /usr/local/lib/python3.8/dist-packages (from tensorflow-datasets->keras_cv) (5.10.1)\n",
            "Requirement already satisfied: tqdm in /usr/local/lib/python3.8/dist-packages (from tensorflow-datasets->keras_cv) (4.64.1)\n",
            "Requirement already satisfied: numpy in /usr/local/lib/python3.8/dist-packages (from tensorflow-datasets->keras_cv) (1.21.6)\n",
            "Requirement already satisfied: requests>=2.19.0 in /usr/local/lib/python3.8/dist-packages (from tensorflow-datasets->keras_cv) (2.25.1)\n",
            "Requirement already satisfied: etils[epath] in /usr/local/lib/python3.8/dist-packages (from tensorflow-datasets->keras_cv) (0.9.0)\n",
            "Requirement already satisfied: dill in /usr/local/lib/python3.8/dist-packages (from tensorflow-datasets->keras_cv) (0.3.6)\n",
            "Requirement already satisfied: tensorflow-metadata in /usr/local/lib/python3.8/dist-packages (from tensorflow-datasets->keras_cv) (1.12.0)\n",
            "Requirement already satisfied: urllib3<1.27,>=1.21.1 in /usr/local/lib/python3.8/dist-packages (from requests>=2.19.0->tensorflow-datasets->keras_cv) (1.24.3)\n",
            "Requirement already satisfied: idna<3,>=2.5 in /usr/local/lib/python3.8/dist-packages (from requests>=2.19.0->tensorflow-datasets->keras_cv) (2.10)\n",
            "Requirement already satisfied: certifi>=2017.4.17 in /usr/local/lib/python3.8/dist-packages (from requests>=2.19.0->tensorflow-datasets->keras_cv) (2022.12.7)\n",
            "Requirement already satisfied: chardet<5,>=3.0.2 in /usr/local/lib/python3.8/dist-packages (from requests>=2.19.0->tensorflow-datasets->keras_cv) (4.0.0)\n",
            "Requirement already satisfied: typing_extensions in /usr/local/lib/python3.8/dist-packages (from etils[epath]->tensorflow-datasets->keras_cv) (4.4.0)\n",
            "Requirement already satisfied: zipp in /usr/local/lib/python3.8/dist-packages (from etils[epath]->tensorflow-datasets->keras_cv) (3.11.0)\n",
            "Requirement already satisfied: googleapis-common-protos<2,>=1.52.0 in /usr/local/lib/python3.8/dist-packages (from tensorflow-metadata->tensorflow-datasets->keras_cv) (1.57.0)\n",
            "Installing collected packages: keras_cv\n",
            "Successfully installed keras_cv-0.4.1\n"
          ]
        }
      ],
      "source": [
        "\n",
        "!pip install keras_cv"
      ]
    },
    {
      "cell_type": "markdown",
      "source": [
        "Data pipeline and model"
      ],
      "metadata": {
        "id": "G7EtCh5O05TT"
      }
    },
    {
      "cell_type": "code",
      "source": [
        "import keras_cv\n",
        "import tensorflow as tf\n",
        "import tensorflow_datasets as tfds\n",
        "\n",
        "import datetime\n",
        "import tqdm\n",
        "import os\n",
        "import numpy as np\n",
        "import matplotlib.pyplot as plt\n",
        "from tensorflow.python.ops.numpy_ops import np_config\n",
        "np_config.enable_numpy_behavior()\n",
        "# from sklearn.manifold import TSNE\n",
        "\n",
        "#import mnist data\n",
        "train_ds, test_ds = tfds.load('mnist', split=['train', 'test'], as_supervised=True)\n",
        "\n",
        "def augment(x, y):\n",
        "    image = tf.image.random_brightness(x, max_delta=0.05)\n",
        "    return image, y\n",
        "\n",
        "def preprocess(data, noise_var=0.5):\n",
        "    # use only the images\n",
        "    data = data.map(lambda x, t: tf.cast(x, tf.dtypes.float32))\n",
        "    # normalize images\n",
        "    data = data.map(lambda x: ((x / 128.)-1.))\n",
        "    # add noise to images\n",
        "    noise = noise_var * tf.random.normal(shape=(28, 28, 1))\n",
        "    data = data.map(lambda o_img: (o_img + noise, o_img))\n",
        "    # clip values to range of [-1,1]\n",
        "    data = data.map(lambda n_img, o_img: (tf.clip_by_value(n_img, clip_value_min=-1, clip_value_max=1), o_img))\n",
        "    # cache, shuffle, batch, prefetch\n",
        "    data = data.cache()\n",
        "    data = data.shuffle(2000)\n",
        "    data = data.batch(32)\n",
        "    data = data.prefetch(tf.data.AUTOTUNE)\n",
        "    return data\n",
        "\n",
        "class CNN_Encoder(tf.keras.layers.Layer):\n",
        "    def __init__(self, dropout_rate):\n",
        "        super(CNN_Encoder, self).__init__()\n",
        "        # Img size: 28x28x1\n",
        "        self.conv1 = tf.keras.layers.Conv2D(filters=4, kernel_size=3, strides=(2, 2), padding='same',\n",
        "                                            activation='relu', kernel_regularizer=tf.keras.regularizers.L2)\n",
        "        self.dropout1 = tf.keras.layers.Dropout(dropout_rate)\n",
        "        # Img size: 14x14x4\n",
        "        self.conv2 = tf.keras.layers.Conv2D(filters=8, kernel_size=3, strides=(2, 2), padding='same',\n",
        "                                            activation='relu', kernel_regularizer=tf.keras.regularizers.L2)\n",
        "        self.dropout2 = tf.keras.layers.Dropout(dropout_rate)\n",
        "        self.batch_norm2 = tf.keras.layers.BatchNormalization(axis=-1)\n",
        "        # Img size: 7x7x8\n",
        "        self.flatten = tf.keras.layers.Flatten()\n",
        "        # Img size: 1x1x392\n",
        "        self.batch_norm1 = tf.keras.layers.BatchNormalization(axis=-1)\n",
        "        self.out = tf.keras.layers.Dense(10, kernel_regularizer=tf.keras.regularizers.L2)\n",
        "        # Img size: 10\n",
        "\n",
        "    def call(self, x, training):\n",
        "        #print(x.shape)\n",
        "        x = self.conv1(x, training=training)\n",
        "        x = self.dropout1(x, training=training)\n",
        "        #print(x.shape)\n",
        "        x = self.conv2(x, training=training)\n",
        "        x = self.dropout2(x, training=training)\n",
        "        #print(x.shape)\n",
        "        x = self.flatten(x)\n",
        "        #print(x.shape)\n",
        "        x = self.batch_norm1(x, training=training)\n",
        "        x = self.out(x)\n",
        "        #print(x.shape)\n",
        "        return x\n",
        "\n",
        "\n",
        "class CNN_Decoder(tf.keras.layers.Layer):\n",
        "    def __init__(self, dropout_rate):\n",
        "        super(CNN_Decoder, self).__init__()\n",
        "        # Restore dimensionality\n",
        "        self.dim_restore = tf.keras.layers.Dense(392, activation='relu', kernel_regularizer=tf.keras.regularizers.L2)\n",
        "        # Img size: 1x1x3136\n",
        "        self.reshape = tf.keras.layers.Reshape((7, 7, 8))\n",
        "        # Img size: 7x7x8\n",
        "        self.convTranspose1 = tf.keras.layers.Conv2DTranspose(filters=8, kernel_size=3, strides=(2, 2), padding='same',\n",
        "                                                              activation='relu', kernel_regularizer=tf.keras.regularizers.L2)\n",
        "        self.dropout3 = tf.keras.layers.Dropout(dropout_rate)\n",
        "        # Img size: 14x14x4\n",
        "        self.convTranspose2 = tf.keras.layers.Conv2DTranspose(filters=4, kernel_size=3, strides=(2, 2), padding='same',\n",
        "                                                              activation='relu', kernel_regularizer=tf.keras.regularizers.L2)\n",
        "        self.dropout4 = tf.keras.layers.Dropout(dropout_rate)\n",
        "        self.batch_norm2 = tf.keras.layers.BatchNormalization(axis=-1)\n",
        "        # Img size: 28x28x4\n",
        "        self.out = tf.keras.layers.Conv2D(filters=1, kernel_size=3, strides=(1, 1),\n",
        "                                          padding='same')\n",
        "        # Img size: 28x28x1\n",
        "\n",
        "    def call(self, x, training):\n",
        "        x = self.dim_restore(x)\n",
        "        #print(x.shape)\n",
        "        x = self.reshape(x)\n",
        "        #print(x.shape)\n",
        "        x = self.convTranspose1(x, training=training)\n",
        "        x = self.dropout3(x, training=training)\n",
        "        #print(x.shape)\n",
        "        x = self.convTranspose2(x, training=training)\n",
        "        x = self.dropout4(x, training=training)\n",
        "        x = self.batch_norm2(x, training=training)\n",
        "        #print(x.shape)\n",
        "        x = self.out(x)\n",
        "        #print(x.shape)\n",
        "        return x\n",
        "\n",
        "class CNN_Autoencoder(tf.keras.Model):\n",
        "    def __init__(self, dropout_rate=0.5):\n",
        "        super(CNN_Autoencoder, self).__init__()\n",
        "        # Layers\n",
        "        self.encoder = CNN_Encoder(dropout_rate)\n",
        "        self.decoder = CNN_Decoder(dropout_rate)\n",
        "\n",
        "        # Optimizer\n",
        "        self.optimizer = tf.keras.optimizers.Adam(learning_rate=0.001)\n",
        "        # Loss function\n",
        "        self.loss_function = tf.keras.losses.MeanSquaredError()\n",
        "        # Metrics\n",
        "        self.metrics_list = [tf.keras.metrics.Mean(name=\"loss\"),\n",
        "                             tf.keras.metrics.Accuracy(name=\"accuracy\")]\n",
        "\n",
        "    def call(self, x, training):\n",
        "        x = self.encoder(x, training=training)\n",
        "        x = self.decoder(x, training=training)\n",
        "        return x\n",
        "\n",
        "    @property\n",
        "    def metrics(self):\n",
        "        return self.metrics_list\n",
        "\n",
        "    def reset_metrics(self):\n",
        "        for metric in self.metrics:\n",
        "            metric.reset_states()\n",
        "\n",
        "    def train_step(self, data):\n",
        "        img, label = data\n",
        "\n",
        "        with tf.GradientTape() as tape:\n",
        "            output = self(img, training=True)\n",
        "            loss = self.loss_function(label, output)\n",
        "\n",
        "        gradients = tape.gradient(loss, self.trainable_variables)\n",
        "\n",
        "        self.optimizer.apply_gradients(zip(gradients, self.trainable_variables))\n",
        "\n",
        "        # update loss metric\n",
        "        self.metrics[0].update_state(loss)\n",
        "        for metric in self.metrics[1:]:\n",
        "            metric.update_state(label, output)\n",
        "        return {m.name: m.result() for m in self.metrics}\n",
        "\n",
        "    def test_step(self, data):\n",
        "        img, label = data\n",
        "\n",
        "        output = self(img, training=False)\n",
        "        loss = self.loss_function(label, output)\n",
        "\n",
        "        # update loss metric\n",
        "        self.metrics[0].update_state(loss)\n",
        "        for metric in self.metrics[1:]:\n",
        "            metric.update_state(label, output)\n",
        "        return {m.name: m.result() for m in self.metrics}\n",
        "\n",
        "    def predict(self, data):\n",
        "        img, label = data\n",
        "        return self(img, training=False)\n",
        "\n",
        "def metric_before_epoch(model, train_ds, test_ds, train_summary_writer, test_summary_writer):\n",
        "    print(\"\\n\")\n",
        "    print(\"Loss and accuracy before training:\")\n",
        "\n",
        "    for data in tqdm.tqdm(train_ds, position=0, leave=True):\n",
        "        metrics = model.test_step(data)\n",
        "\n",
        "\n",
        "        with train_summary_writer.as_default():\n",
        "            for metric in model.metrics:\n",
        "                tf.summary.scalar(f\"{metric.name}\", metric.result(), step=1)\n",
        "\n",
        "    # print the metrics\n",
        "    print([f\"train_{key}: {value.numpy()}\" for (key, value) in metrics.items()])\n",
        "\n",
        "    # reset all metrics\n",
        "    model.reset_metrics()\n",
        "\n",
        "    for data in tqdm.tqdm(test_ds, position=0, leave=True):\n",
        "        metrics = model.test_step(data)\n",
        "\n",
        "        # logging the validation metrics to the log file which is used by tensorboard\n",
        "        with test_summary_writer.as_default():\n",
        "            for metric in model.metrics:\n",
        "                tf.summary.scalar(f\"{metric.name}\", metric.result(), step=1)\n",
        "\n",
        "    print([f\"test_{key}: {value.numpy()}\" for (key, value) in metrics.items()])\n",
        "\n",
        "    # reset all metrics\n",
        "    model.reset_metrics()\n",
        "    print(\"\\n\")\n",
        "\n",
        "def training_loop(model, train_ds, test_ds, epochs, train_summary_writer, test_summary_writer):\n",
        "    for epoch in range(epochs):\n",
        "        print(f\"Epoch {epoch}:\")\n",
        "\n",
        "        # Training\n",
        "        for data in tqdm.tqdm(train_ds, position=0, leave=True):\n",
        "            metrics = model.train_step(data)\n",
        "\n",
        "            with train_summary_writer.as_default():\n",
        "                for metric in model.metrics:\n",
        "                    tf.summary.scalar(f\"{metric.name}\", metric.result(), step=epoch)\n",
        "\n",
        "        # print the metrics\n",
        "        print([f\"train_{key}: {value.numpy()}\" for (key, value) in metrics.items()])\n",
        "\n",
        "        # reset all metrics\n",
        "        model.reset_metrics()\n",
        "\n",
        "        # Validation\n",
        "        for data in test_ds:\n",
        "            metrics = model.test_step(data)\n",
        "\n",
        "            # logging the validation metrics to the log file which is used by tensorboard\n",
        "            with test_summary_writer.as_default():\n",
        "                for metric in model.metrics:\n",
        "                    tf.summary.scalar(f\"{metric.name}\", metric.result(), step=epoch)\n",
        "\n",
        "        print([f\"test_{key}: {value.numpy()}\" for (key, value) in metrics.items()])\n",
        "\n",
        "        # reset all metrics\n",
        "        model.reset_metrics()\n",
        "        print(\"\\n\")"
      ],
      "metadata": {
        "colab": {
          "base_uri": "https://localhost:8080/",
          "height": 100,
          "referenced_widgets": [
            "42842c95b5bb4d7d976b7e033a71fc38",
            "38e59eddda8d439bb707f7407909453e",
            "b5882febbe4b47c68db1a09dfbc3b947",
            "aec735c51a844872821d05cf73389b71",
            "683d8c37ea434ef693c227365edc29c9",
            "55cd79ec63314d62833b679fb7260727",
            "f96543a2b6ad406092a709060898b2b3",
            "1afab4b29f0b4c60af0cdd69efb97557",
            "9e98f66cd6a34c05af945d0a72028b4c",
            "e5860c2f755e46c89c087a5a0b2afc5f",
            "a79c9de31e1d47399a12d5ec8efaaf55"
          ]
        },
        "id": "FI9Cp_3r0k3E",
        "outputId": "9cadbda2-787b-42d7-c1ad-8b3faef205c4"
      },
      "execution_count": 2,
      "outputs": [
        {
          "output_type": "stream",
          "name": "stdout",
          "text": [
            "You do not have Waymo Open Dataset installed, so KerasCV Waymo metrics are not available.\n",
            "Downloading and preparing dataset 11.06 MiB (download: 11.06 MiB, generated: 21.00 MiB, total: 32.06 MiB) to ~/tensorflow_datasets/mnist/3.0.1...\n"
          ]
        },
        {
          "output_type": "display_data",
          "data": {
            "text/plain": [
              "Dl Completed...:   0%|          | 0/5 [00:00<?, ? file/s]"
            ],
            "application/vnd.jupyter.widget-view+json": {
              "version_major": 2,
              "version_minor": 0,
              "model_id": "42842c95b5bb4d7d976b7e033a71fc38"
            }
          },
          "metadata": {}
        },
        {
          "output_type": "stream",
          "name": "stdout",
          "text": [
            "Dataset mnist downloaded and prepared to ~/tensorflow_datasets/mnist/3.0.1. Subsequent calls will reuse this data.\n"
          ]
        }
      ]
    },
    {
      "cell_type": "markdown",
      "source": [
        "Main"
      ],
      "metadata": {
        "id": "j44SPWcT1HMx"
      }
    },
    {
      "cell_type": "code",
      "source": [
        "##################### Set paths ################\n",
        "if os.path.exists('/content/drive/MyDrive/logs/'):\n",
        "    from google.colab import drive\n",
        "    path = '/content/drive/MyDrive/logs/Autoencoder'\n",
        "    drive.mount(path)\n",
        "else:\n",
        "    path = 'C:/Users/accou/OneDrive/Desktop/Arbeit/Studium/Master/Semester03/IANNwTF/Week08/logs'\n",
        "\n",
        "################## Preprocess the data ############\n",
        "# determine noisiness\n",
        "NOISE = 1\n",
        "train_data = preprocess(train_ds, noise_var=NOISE)\n",
        "# augment data\n",
        "train_data = train_data.map(augment)\n",
        "test_data = preprocess(test_ds, noise_var=NOISE)\n",
        "\n",
        "# show noisy image\n",
        "for n_img, o_img in train_data.take(1):\n",
        "    print(\"Tensor shape = \", n_img.shape, o_img.shape)\n",
        "\n",
        "    x = np.asarray(n_img[0, :, :, 0])\n",
        "    t = np.asarray(o_img[0, :, :, 0])\n",
        "    plt.imshow(x)\n",
        "    plt.show()\n",
        "    #plt.savefig('preprocessed_noisy_img.png', format='png')\n",
        "    plt.imshow(t)\n",
        "    plt.show()\n",
        "    #plt.savefig('preprocessed_original_img.png', format='png')\n",
        "\n",
        "# create model\n",
        "DROPOUT=0.2\n",
        "model = CNN_Autoencoder(dropout_rate=DROPOUT)\n",
        "\n",
        "# Define where to save the log\n",
        "config_name = \"Autoencoder\"\n",
        "current_time = datetime.datetime.now().strftime(\"%Y%m%d-%H%M%S\")\n",
        "\n",
        "train_log_path = f\"{path}/{config_name}/{current_time}/train\"\n",
        "test_log_path = f\"{path}/{config_name}/{current_time}/test\"\n",
        "\n",
        "# log writer for training metrics\n",
        "train_summary_writer = tf.summary.create_file_writer(train_log_path)\n",
        "\n",
        "# log writer for validation metrics\n",
        "test_summary_writer = tf.summary.create_file_writer(test_log_path)\n",
        "\n",
        "metric_before_epoch(model=model,\n",
        "                train_ds=train_data,\n",
        "                test_ds=test_data,\n",
        "                train_summary_writer=train_summary_writer,\n",
        "                test_summary_writer=test_summary_writer)\n",
        "\n",
        "training_loop(model=model,\n",
        "                train_ds=train_data,\n",
        "                test_ds=test_data,\n",
        "                epochs=10,\n",
        "                train_summary_writer=train_summary_writer,\n",
        "                test_summary_writer=test_summary_writer)"
      ],
      "metadata": {
        "colab": {
          "base_uri": "https://localhost:8080/",
          "height": 921
        },
        "id": "IjN27F_t0qx_",
        "outputId": "28a33603-5d79-49db-e762-fe4f5c29948b"
      },
      "execution_count": null,
      "outputs": [
        {
          "output_type": "stream",
          "name": "stdout",
          "text": [
            "Tensor shape =  (32, 28, 28, 1) (32, 28, 28, 1)\n"
          ]
        },
        {
          "output_type": "display_data",
          "data": {
            "text/plain": [
              "<Figure size 432x288 with 1 Axes>"
            ],
            "image/png": "[encoded data removed]"
          },
          "metadata": {
            "needs_background": "light"
          }
        },
        {
          "output_type": "display_data",
          "data": {
            "text/plain": [
              "<Figure size 432x288 with 1 Axes>"
            ],
            "image/png": "[encoded data removed]"
          },
          "metadata": {
            "needs_background": "light"
          }
        },
        {
          "output_type": "stream",
          "name": "stdout",
          "text": [
            "\n",
            "\n",
            "Loss and accuracy before training:\n"
          ]
        },
        {
          "output_type": "stream",
          "name": "stderr",
          "text": [
            "100%|██████████| 1875/1875 [01:09<00:00, 26.97it/s]\n"
          ]
        },
        {
          "output_type": "stream",
          "name": "stdout",
          "text": [
            "['train_loss: 0.9225881695747375', 'train_accuracy: 0.0']\n"
          ]
        },
        {
          "output_type": "stream",
          "name": "stderr",
          "text": [
            "100%|██████████| 313/313 [00:10<00:00, 28.58it/s]\n"
          ]
        },
        {
          "output_type": "stream",
          "name": "stdout",
          "text": [
            "['test_loss: 0.9226378202438354', 'test_accuracy: 0.0']\n",
            "\n",
            "\n",
            "Epoch 0:\n"
          ]
        },
        {
          "output_type": "stream",
          "name": "stderr",
          "text": [
            "100%|██████████| 1875/1875 [02:19<00:00, 13.48it/s]\n"
          ]
        },
        {
          "output_type": "stream",
          "name": "stdout",
          "text": [
            "['train_loss: 0.289789080619812', 'train_accuracy: 1.7006802011110267e-07']\n",
            "['test_loss: 0.17167478799819946', 'test_accuracy: 7.653061402379535e-07']\n",
            "\n",
            "\n",
            "Epoch 1:\n"
          ]
        },
        {
          "output_type": "stream",
          "name": "stderr",
          "text": [
            "100%|██████████| 1875/1875 [02:21<00:00, 13.21it/s]\n"
          ]
        },
        {
          "output_type": "stream",
          "name": "stdout",
          "text": [
            "['train_loss: 0.15170976519584656', 'train_accuracy: 2.5297620140918298e-06']\n",
            "['test_loss: 0.15351280570030212', 'test_accuracy: 0.0']\n",
            "\n",
            "\n",
            "Epoch 2:\n"
          ]
        },
        {
          "output_type": "stream",
          "name": "stderr",
          "text": [
            " 98%|█████████▊| 1836/1875 [02:15<00:02, 13.28it/s]"
          ]
        }
      ]
    },
    {
      "cell_type": "markdown",
      "source": [
        "Latent space analysis"
      ],
      "metadata": {
        "id": "9hog-q0o1M-X"
      }
    },
    {
      "cell_type": "code",
      "source": [
        "from sklearn.manifold import TSNE\n",
        "\n",
        "# initialize encoder as model_E\n",
        "model_E = model.encoder\n",
        "\n",
        "def preprocess_w_labels(data, noise_var=0.5):\n",
        "    # use only the images\n",
        "    data = data.map(lambda x, t: (tf.cast(x, tf.dtypes.float32), t))\n",
        "    # normalize images\n",
        "    data = data.map(lambda x, t: (((x / 128.)-1.), t))\n",
        "    \n",
        "    # add noise to images\n",
        "    noise = noise_var * tf.random.normal(shape=(28, 28, 1))\n",
        "    data = data.map(lambda x, t: (x + noise, t))\n",
        "    # clip values to range of [-1,1]\n",
        "    data = data.map(lambda x, t: (tf.clip_by_value(x, clip_value_min=-1, clip_value_max=1), t))\n",
        "    # cache, shuffle, batch, prefetch\n",
        "    data = data.cache()\n",
        "    data = data.shuffle(2000)\n",
        "    data = data.batch(32)\n",
        "    data = data.prefetch(tf.data.AUTOTUNE)\n",
        "    return data\n",
        "\n",
        "#create labeled dataset\n",
        "val_data = preprocess_w_labels(test_ds, noise_var=1)\n",
        "\n",
        "# take 32 datasets (aka 1024 images because we have a batch size of 32) \n",
        "var = val_data.take(32)\n",
        "img = []\n",
        "label = []\n",
        "for x, t in var:\n",
        "    img.append(model_E(x))\n",
        "    label.append(t)\n",
        "\n",
        "# concat on batch axis and convert to numpy array\n",
        "img = tf.concat(img, axis=0)\n",
        "img = img.numpy()\n",
        "label = tf.concat(label, axis=0)\n",
        "label = label.numpy()\n",
        "\n",
        "# build t-SNE\n",
        "tsne_img = TSNE(n_components=2, learning_rate='auto', init='random', perplexity=3).fit_transform(img)\n",
        "tsne_img.shape"
      ],
      "metadata": {
        "id": "L1BRuA640yol"
      },
      "execution_count": null,
      "outputs": []
    },
    {
      "cell_type": "code",
      "source": [
        "\n",
        "import matplotlib\n",
        "# plot t-SNE\n",
        "colors = ['red','green','blue','purple', 'orange', 'brown', 'pink', 'gray', 'olive', 'cyan']\n",
        "plt.scatter(tsne_img[:,0], tsne_img[:,1], c=label, cmap=matplotlib.colors.ListedColormap(colors))\n",
        "cb = plt.colorbar()\n",
        "loc = np.arange(0,max(label),max(label)/float(len(colors)))\n",
        "cb.set_ticks(loc)\n",
        "cb.set_ticklabels(['0','1','2','3','4','5','6','7','8','9'])"
      ],
      "metadata": {
        "id": "m_kJLsjV01OL"
      },
      "execution_count": null,
      "outputs": []
    }
  ]
}